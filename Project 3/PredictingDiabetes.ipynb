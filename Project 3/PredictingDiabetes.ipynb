{
  "cells": [
    {
      "cell_type": "code",
      "execution_count": 32,
      "metadata": {
        "id": "_ntQoXUiBOcp"
      },
      "outputs": [],
      "source": []
    },
    {
      "cell_type": "markdown",
      "metadata": {
        "id": "wFkBR7RjBX9p"
      },
      "source": [
        "Robert Rosen Machine Learning 10/29/23 Project 3\n",
        "\n",
        "Findings:\n",
        "For this project various classification models were to be trained on the training dataset.  Performance measures were to be evaluated and cross validation used to decide on the best model to make predictions on the test dataset.  Once the predictions were made, improvements on predicting were to found by finding the best hyperparameter combinations for that model.\n",
        "\n",
        "Below Logistic Regression, Decision Tree, Random Forest, SVM with linear kernel, SVM with polynomial kernal, k-nearest neighbors, and an ensemble model using Logistic Regression, Decision Tree, and SVM with polynomial kernel were used as classification models.  \n",
        "\n",
        "The data was checked for missing values and was stratified before breaking the data into training and testing datasets.  \n",
        "Listed below are the performance measures of all the models tried.  Note that for Decision Tree and Random Forest, the first attemps overfitting drastically.  So regualarization was applied to both of those models to allow for better generalization.  Only that data is summarized here for that data.\n",
        "\n",
        "LOGISTIC REGRESSION  \n",
        "Accuracy: 0.7966666666666666\n",
        "Precision: 0.7532467532467533\n",
        "Recall: 0.58\n",
        "F1 Score: 0.655367231638418\n",
        "ROC AUC: 0.7425\n",
        "\n",
        "SVM\n",
        "Accuracy: 0.8416666666666667\n",
        "Precision: 0.8387096774193549\n",
        "Recall: 0.65\n",
        "F1 Score: 0.7323943661971831\n",
        "ROC AUC: 0.79375\n",
        "\n",
        "K-Nearest Neighbors\n",
        "Accuracy: 0.8183333333333334\n",
        "Precision: 0.7630057803468208\n",
        "Recall: 0.66\n",
        "F1 Score: 0.7077747989276139\n",
        "ROC AUC: 0.77875\n",
        "\n",
        "DECISION TREE (GENERALIZED)\n",
        "Accuracy: 0.78\n",
        "Precision: 0.8617021276595744\n",
        "Recall: 0.405\n",
        "F1 Score: 0.5510204081632654\n",
        "ROC AUC: 0.68625\n",
        "\n",
        "RANDOM FOREST (GENERALIZED)\n",
        "Accuracy: 0.95\n",
        "Precision: 0.9722222222222222\n",
        "Recall: 0.875\n",
        "F1 Score: 0.9210526315789473\n",
        "ROC AUC: 0.93125\n",
        "\n",
        "ENSEMBLE \n",
        "Accuracy: 0.82\n",
        "Precision: 0.823943661971831\n",
        "Recall: 0.585\n",
        "F1 Score: 0.6842105263157894\n",
        "ROC AUC: 0.76125\n",
        "\n",
        "SVM POLYNOMIAL KERNEL\n",
        "Accuracy: 0.825\n",
        "Precision: 0.9203539823008849\n",
        "Recall: 0.52\n",
        "F1 Score: 0.6645367412140575\n",
        "ROC AUC: 0.74875\n",
        "\n",
        "Considering the dataset and our goal.  The dataset is comprised of patients who are either diabetic or non-diabetic.  Knowing this, False Positive Rate, Recall(Sensitivity), and the area under the ROC curve are the performance measures I am relying most heavily to make my decision for the best model to use.  The higher the recall the false negatives maybe high, but we are catching a lot of the true positive cases.  Additionally, with a low False positive rate, not many diabetics will be misdiagnosed as not having diabetes.  \n",
        "\n",
        "The Random Forest after generalizing the model gave the best results but are still considerably heads and shoulders above the rest of the models.  For this reason I decided not to use this model.  The K-Nearest was the next best model, however it gave me false positive rate of .22.  I considered this number to be too high as well.  The Ensemble and SVM polynomial models gave me that best recall and ROC AUC numbers and decided to use those two models to make predictions. \n",
        "\n",
        "The Ensemble model predictions on the test data was as follows:\n",
        "Accuracy: 0.7133333333333334\n",
        "Precision: 0.6206896551724138\n",
        "Recall: 0.36\n",
        "F1 Score: 0.45569620253164556\n",
        "\n",
        "The model predicted very poorly on the test dataset.  I applied cross validation on the model with varying max samples\n",
        "Max samples: 0.5, Mean cross-validation score: 0.79\n",
        "Max samples: 0.6, Mean cross-validation score: 0.7933333333333332\n",
        "Max samples: 0.7, Mean cross-validation score: 0.7883333333333333\n",
        "Max samples: 0.8, Mean cross-validation score: 0.7849999999999999\n",
        "Max samples: 0.9, Mean cross-validation score: 0.7833333333333334\n",
        "Max samples: 1.0, Mean cross-validation score: 0.7833333333333334\n",
        "\n",
        "Max samples of .6 gave me the best cross validation score.  So the model was run again.  These were the results.\n",
        "Accuracy: 0.72\n",
        "Precision: 0.6052631578947368\n",
        "Recall: 0.46\n",
        "F1 Score: 0.5227272727272727\n",
        "\n",
        "Increases in F1 and Recall scores were obtained. A false Rate was found.\n",
        "False Positive Rate: 0.15\n",
        "\n",
        "I then tried the other model, SVM with polynomial kernel.  Degree 3 was used.\n",
        "Accuracy: 0.6866666666666666\n",
        "Precision: 0.5517241379310345\n",
        "Recall: 0.32\n",
        "F1 Score: 0.4050632911392405\n",
        "\n",
        "Again this model did very poorly predicting the outcomes on the test dataset.\n",
        "\n",
        "SVM with polynomial kernel was then fine tuned \n",
        "C: 0.1, Mean cross-validation score: 0.7216666666666667\n",
        "C: 1.0, Mean cross-validation score: 0.7483333333333333\n",
        "C: 10.0, Mean cross-validation score: 0.7483333333333333\n",
        "C: 100.0, Mean cross-validation score: 0.7183333333333334\n",
        "\n",
        "Adjust the c values, a c value of 1 and 10 both had the highest cross validation scores.  Since c = 1 is less complex, that parameter value was chosen.\n",
        "\n",
        "Accuracy: 0.6866666666666666\n",
        "Precision: 0.5517241379310345\n",
        "Recall: 0.32\n",
        "F1 Score: 0.4050632911392405\n",
        "\n",
        "This adjust model has the following false positive rate.\n",
        "False Positive Rate: 0.13\n",
        "\n",
        "Lastly I ran a false positive rate on the K-Nearest neighbors model.  Its false positive rate was .22.\n",
        "Becuase that rate is considerably worse than the .13 false positive rate of the SVM model above, My decision was choose the SVM with polynomial kernel as the model.  It has the best ROC curve and lowest false positive rate of the models.\n",
        "\n",
        "\n",
        "SECTION PREPROCESSING OF DATA\n",
        "\n",
        "1.  Printing out the top 5 rows in the csv file to see attributes"
      ]
    },
    {
      "cell_type": "code",
      "execution_count": 33,
      "metadata": {
        "colab": {
          "base_uri": "https://localhost:8080/",
          "height": 206
        },
        "id": "q3wF_J3ZBccJ",
        "outputId": "8d6ed8d3-7393-49cb-ec0d-a17ef72acb67"
      },
      "outputs": [
        {
          "data": {
            "text/html": [
              "\n",
              "  <div id=\"df-7ee9543e-a655-46b6-8a3d-ad2ff3fa6aaa\" class=\"colab-df-container\">\n",
              "    <div>\n",
              "<style scoped>\n",
              "    .dataframe tbody tr th:only-of-type {\n",
              "        vertical-align: middle;\n",
              "    }\n",
              "\n",
              "    .dataframe tbody tr th {\n",
              "        vertical-align: top;\n",
              "    }\n",
              "\n",
              "    .dataframe thead th {\n",
              "        text-align: right;\n",
              "    }\n",
              "</style>\n",
              "<table border=\"1\" class=\"dataframe\">\n",
              "  <thead>\n",
              "    <tr style=\"text-align: right;\">\n",
              "      <th></th>\n",
              "      <th>Pregnancies</th>\n",
              "      <th>Glucose</th>\n",
              "      <th>BloodPressure</th>\n",
              "      <th>SkinThickness</th>\n",
              "      <th>Insulin</th>\n",
              "      <th>BMI</th>\n",
              "      <th>DiabetesPedigreeFunction</th>\n",
              "      <th>Age</th>\n",
              "      <th>Outcome</th>\n",
              "    </tr>\n",
              "  </thead>\n",
              "  <tbody>\n",
              "    <tr>\n",
              "      <th>0</th>\n",
              "      <td>6</td>\n",
              "      <td>148</td>\n",
              "      <td>72</td>\n",
              "      <td>35</td>\n",
              "      <td>0</td>\n",
              "      <td>33.6</td>\n",
              "      <td>0.627</td>\n",
              "      <td>50</td>\n",
              "      <td>1</td>\n",
              "    </tr>\n",
              "    <tr>\n",
              "      <th>1</th>\n",
              "      <td>1</td>\n",
              "      <td>85</td>\n",
              "      <td>66</td>\n",
              "      <td>29</td>\n",
              "      <td>0</td>\n",
              "      <td>26.6</td>\n",
              "      <td>0.351</td>\n",
              "      <td>31</td>\n",
              "      <td>0</td>\n",
              "    </tr>\n",
              "    <tr>\n",
              "      <th>2</th>\n",
              "      <td>8</td>\n",
              "      <td>183</td>\n",
              "      <td>64</td>\n",
              "      <td>0</td>\n",
              "      <td>0</td>\n",
              "      <td>23.3</td>\n",
              "      <td>0.672</td>\n",
              "      <td>32</td>\n",
              "      <td>1</td>\n",
              "    </tr>\n",
              "    <tr>\n",
              "      <th>3</th>\n",
              "      <td>1</td>\n",
              "      <td>89</td>\n",
              "      <td>66</td>\n",
              "      <td>23</td>\n",
              "      <td>94</td>\n",
              "      <td>28.1</td>\n",
              "      <td>0.167</td>\n",
              "      <td>21</td>\n",
              "      <td>0</td>\n",
              "    </tr>\n",
              "    <tr>\n",
              "      <th>4</th>\n",
              "      <td>0</td>\n",
              "      <td>137</td>\n",
              "      <td>40</td>\n",
              "      <td>35</td>\n",
              "      <td>168</td>\n",
              "      <td>43.1</td>\n",
              "      <td>2.288</td>\n",
              "      <td>33</td>\n",
              "      <td>1</td>\n",
              "    </tr>\n",
              "  </tbody>\n",
              "</table>\n",
              "</div>\n",
              "    <div class=\"colab-df-buttons\">\n",
              "\n",
              "  <div class=\"colab-df-container\">\n",
              "    <button class=\"colab-df-convert\" onclick=\"convertToInteractive('df-7ee9543e-a655-46b6-8a3d-ad2ff3fa6aaa')\"\n",
              "            title=\"Convert this dataframe to an interactive table.\"\n",
              "            style=\"display:none;\">\n",
              "\n",
              "  <svg xmlns=\"http://www.w3.org/2000/svg\" height=\"24px\" viewBox=\"0 -960 960 960\">\n",
              "    <path d=\"M120-120v-720h720v720H120Zm60-500h600v-160H180v160Zm220 220h160v-160H400v160Zm0 220h160v-160H400v160ZM180-400h160v-160H180v160Zm440 0h160v-160H620v160ZM180-180h160v-160H180v160Zm440 0h160v-160H620v160Z\"/>\n",
              "  </svg>\n",
              "    </button>\n",
              "\n",
              "  <style>\n",
              "    .colab-df-container {\n",
              "      display:flex;\n",
              "      gap: 12px;\n",
              "    }\n",
              "\n",
              "    .colab-df-convert {\n",
              "      background-color: #E8F0FE;\n",
              "      border: none;\n",
              "      border-radius: 50%;\n",
              "      cursor: pointer;\n",
              "      display: none;\n",
              "      fill: #1967D2;\n",
              "      height: 32px;\n",
              "      padding: 0 0 0 0;\n",
              "      width: 32px;\n",
              "    }\n",
              "\n",
              "    .colab-df-convert:hover {\n",
              "      background-color: #E2EBFA;\n",
              "      box-shadow: 0px 1px 2px rgba(60, 64, 67, 0.3), 0px 1px 3px 1px rgba(60, 64, 67, 0.15);\n",
              "      fill: #174EA6;\n",
              "    }\n",
              "\n",
              "    .colab-df-buttons div {\n",
              "      margin-bottom: 4px;\n",
              "    }\n",
              "\n",
              "    [theme=dark] .colab-df-convert {\n",
              "      background-color: #3B4455;\n",
              "      fill: #D2E3FC;\n",
              "    }\n",
              "\n",
              "    [theme=dark] .colab-df-convert:hover {\n",
              "      background-color: #434B5C;\n",
              "      box-shadow: 0px 1px 3px 1px rgba(0, 0, 0, 0.15);\n",
              "      filter: drop-shadow(0px 1px 2px rgba(0, 0, 0, 0.3));\n",
              "      fill: #FFFFFF;\n",
              "    }\n",
              "  </style>\n",
              "\n",
              "    <script>\n",
              "      const buttonEl =\n",
              "        document.querySelector('#df-7ee9543e-a655-46b6-8a3d-ad2ff3fa6aaa button.colab-df-convert');\n",
              "      buttonEl.style.display =\n",
              "        google.colab.kernel.accessAllowed ? 'block' : 'none';\n",
              "\n",
              "      async function convertToInteractive(key) {\n",
              "        const element = document.querySelector('#df-7ee9543e-a655-46b6-8a3d-ad2ff3fa6aaa');\n",
              "        const dataTable =\n",
              "          await google.colab.kernel.invokeFunction('convertToInteractive',\n",
              "                                                    [key], {});\n",
              "        if (!dataTable) return;\n",
              "\n",
              "        const docLinkHtml = 'Like what you see? Visit the ' +\n",
              "          '<a target=\"_blank\" href=https://colab.research.google.com/notebooks/data_table.ipynb>data table notebook</a>'\n",
              "          + ' to learn more about interactive tables.';\n",
              "        element.innerHTML = '';\n",
              "        dataTable['output_type'] = 'display_data';\n",
              "        await google.colab.output.renderOutput(dataTable, element);\n",
              "        const docLink = document.createElement('div');\n",
              "        docLink.innerHTML = docLinkHtml;\n",
              "        element.appendChild(docLink);\n",
              "      }\n",
              "    </script>\n",
              "  </div>\n",
              "\n",
              "\n",
              "<div id=\"df-e386c916-f235-48ae-9d68-1f39c8d2bfc2\">\n",
              "  <button class=\"colab-df-quickchart\" onclick=\"quickchart('df-e386c916-f235-48ae-9d68-1f39c8d2bfc2')\"\n",
              "            title=\"Suggest charts.\"\n",
              "            style=\"display:none;\">\n",
              "\n",
              "<svg xmlns=\"http://www.w3.org/2000/svg\" height=\"24px\"viewBox=\"0 0 24 24\"\n",
              "     width=\"24px\">\n",
              "    <g>\n",
              "        <path d=\"M19 3H5c-1.1 0-2 .9-2 2v14c0 1.1.9 2 2 2h14c1.1 0 2-.9 2-2V5c0-1.1-.9-2-2-2zM9 17H7v-7h2v7zm4 0h-2V7h2v10zm4 0h-2v-4h2v4z\"/>\n",
              "    </g>\n",
              "</svg>\n",
              "  </button>\n",
              "\n",
              "<style>\n",
              "  .colab-df-quickchart {\n",
              "      --bg-color: #E8F0FE;\n",
              "      --fill-color: #1967D2;\n",
              "      --hover-bg-color: #E2EBFA;\n",
              "      --hover-fill-color: #174EA6;\n",
              "      --disabled-fill-color: #AAA;\n",
              "      --disabled-bg-color: #DDD;\n",
              "  }\n",
              "\n",
              "  [theme=dark] .colab-df-quickchart {\n",
              "      --bg-color: #3B4455;\n",
              "      --fill-color: #D2E3FC;\n",
              "      --hover-bg-color: #434B5C;\n",
              "      --hover-fill-color: #FFFFFF;\n",
              "      --disabled-bg-color: #3B4455;\n",
              "      --disabled-fill-color: #666;\n",
              "  }\n",
              "\n",
              "  .colab-df-quickchart {\n",
              "    background-color: var(--bg-color);\n",
              "    border: none;\n",
              "    border-radius: 50%;\n",
              "    cursor: pointer;\n",
              "    display: none;\n",
              "    fill: var(--fill-color);\n",
              "    height: 32px;\n",
              "    padding: 0;\n",
              "    width: 32px;\n",
              "  }\n",
              "\n",
              "  .colab-df-quickchart:hover {\n",
              "    background-color: var(--hover-bg-color);\n",
              "    box-shadow: 0 1px 2px rgba(60, 64, 67, 0.3), 0 1px 3px 1px rgba(60, 64, 67, 0.15);\n",
              "    fill: var(--button-hover-fill-color);\n",
              "  }\n",
              "\n",
              "  .colab-df-quickchart-complete:disabled,\n",
              "  .colab-df-quickchart-complete:disabled:hover {\n",
              "    background-color: var(--disabled-bg-color);\n",
              "    fill: var(--disabled-fill-color);\n",
              "    box-shadow: none;\n",
              "  }\n",
              "\n",
              "  .colab-df-spinner {\n",
              "    border: 2px solid var(--fill-color);\n",
              "    border-color: transparent;\n",
              "    border-bottom-color: var(--fill-color);\n",
              "    animation:\n",
              "      spin 1s steps(1) infinite;\n",
              "  }\n",
              "\n",
              "  @keyframes spin {\n",
              "    0% {\n",
              "      border-color: transparent;\n",
              "      border-bottom-color: var(--fill-color);\n",
              "      border-left-color: var(--fill-color);\n",
              "    }\n",
              "    20% {\n",
              "      border-color: transparent;\n",
              "      border-left-color: var(--fill-color);\n",
              "      border-top-color: var(--fill-color);\n",
              "    }\n",
              "    30% {\n",
              "      border-color: transparent;\n",
              "      border-left-color: var(--fill-color);\n",
              "      border-top-color: var(--fill-color);\n",
              "      border-right-color: var(--fill-color);\n",
              "    }\n",
              "    40% {\n",
              "      border-color: transparent;\n",
              "      border-right-color: var(--fill-color);\n",
              "      border-top-color: var(--fill-color);\n",
              "    }\n",
              "    60% {\n",
              "      border-color: transparent;\n",
              "      border-right-color: var(--fill-color);\n",
              "    }\n",
              "    80% {\n",
              "      border-color: transparent;\n",
              "      border-right-color: var(--fill-color);\n",
              "      border-bottom-color: var(--fill-color);\n",
              "    }\n",
              "    90% {\n",
              "      border-color: transparent;\n",
              "      border-bottom-color: var(--fill-color);\n",
              "    }\n",
              "  }\n",
              "</style>\n",
              "\n",
              "  <script>\n",
              "    async function quickchart(key) {\n",
              "      const quickchartButtonEl =\n",
              "        document.querySelector('#' + key + ' button');\n",
              "      quickchartButtonEl.disabled = true;  // To prevent multiple clicks.\n",
              "      quickchartButtonEl.classList.add('colab-df-spinner');\n",
              "      try {\n",
              "        const charts = await google.colab.kernel.invokeFunction(\n",
              "            'suggestCharts', [key], {});\n",
              "      } catch (error) {\n",
              "        console.error('Error during call to suggestCharts:', error);\n",
              "      }\n",
              "      quickchartButtonEl.classList.remove('colab-df-spinner');\n",
              "      quickchartButtonEl.classList.add('colab-df-quickchart-complete');\n",
              "    }\n",
              "    (() => {\n",
              "      let quickchartButtonEl =\n",
              "        document.querySelector('#df-e386c916-f235-48ae-9d68-1f39c8d2bfc2 button');\n",
              "      quickchartButtonEl.style.display =\n",
              "        google.colab.kernel.accessAllowed ? 'block' : 'none';\n",
              "    })();\n",
              "  </script>\n",
              "</div>\n",
              "    </div>\n",
              "  </div>\n"
            ],
            "text/plain": [
              "   Pregnancies  Glucose  BloodPressure  SkinThickness  Insulin   BMI  \\\n",
              "0            6      148             72             35        0  33.6   \n",
              "1            1       85             66             29        0  26.6   \n",
              "2            8      183             64              0        0  23.3   \n",
              "3            1       89             66             23       94  28.1   \n",
              "4            0      137             40             35      168  43.1   \n",
              "\n",
              "   DiabetesPedigreeFunction  Age  Outcome  \n",
              "0                     0.627   50        1  \n",
              "1                     0.351   31        0  \n",
              "2                     0.672   32        1  \n",
              "3                     0.167   21        0  \n",
              "4                     2.288   33        1  "
            ]
          },
          "execution_count": 33,
          "metadata": {},
          "output_type": "execute_result"
        }
      ],
      "source": [
        "import pandas as pd\n",
        "\n",
        "# Load the data\n",
        "patients_df = pd.read_csv('patients.csv')\n",
        "\n",
        "# Display the first few rows of the dataframe\n",
        "patients_df.head()"
      ]
    },
    {
      "cell_type": "markdown",
      "metadata": {
        "id": "Ch_zrxxBCjrZ"
      },
      "source": [
        "2.  Check for missing values in the dataset.\n",
        "\n",
        "NO MISSING VALUES FOUND"
      ]
    },
    {
      "cell_type": "code",
      "execution_count": 34,
      "metadata": {
        "colab": {
          "base_uri": "https://localhost:8080/"
        },
        "id": "jy3k8iHZC2os",
        "outputId": "6711260f-4c26-4c51-f651-ed78e8acc897"
      },
      "outputs": [
        {
          "data": {
            "text/plain": [
              "Pregnancies                 0\n",
              "Glucose                     0\n",
              "BloodPressure               0\n",
              "SkinThickness               0\n",
              "Insulin                     0\n",
              "BMI                         0\n",
              "DiabetesPedigreeFunction    0\n",
              "Age                         0\n",
              "Outcome                     0\n",
              "dtype: int64"
            ]
          },
          "execution_count": 34,
          "metadata": {},
          "output_type": "execute_result"
        }
      ],
      "source": [
        "# Check for missing values\n",
        "patients_df.isnull().sum()"
      ]
    },
    {
      "cell_type": "markdown",
      "metadata": {
        "id": "rrbhaMSCC9z8"
      },
      "source": [
        "3.  Dataset Description\n"
      ]
    },
    {
      "cell_type": "code",
      "execution_count": 35,
      "metadata": {
        "colab": {
          "base_uri": "https://localhost:8080/",
          "height": 335
        },
        "id": "0S6LDYTTDGDy",
        "outputId": "4c6a0c0d-46fc-4231-9f00-b4c0754403d5"
      },
      "outputs": [
        {
          "name": "stdout",
          "output_type": "stream",
          "text": [
            "\n",
            "Description of Data\n"
          ]
        },
        {
          "data": {
            "text/html": [
              "\n",
              "  <div id=\"df-b028230e-c6ed-4ace-a1fd-f2555f5c9057\" class=\"colab-df-container\">\n",
              "    <div>\n",
              "<style scoped>\n",
              "    .dataframe tbody tr th:only-of-type {\n",
              "        vertical-align: middle;\n",
              "    }\n",
              "\n",
              "    .dataframe tbody tr th {\n",
              "        vertical-align: top;\n",
              "    }\n",
              "\n",
              "    .dataframe thead th {\n",
              "        text-align: right;\n",
              "    }\n",
              "</style>\n",
              "<table border=\"1\" class=\"dataframe\">\n",
              "  <thead>\n",
              "    <tr style=\"text-align: right;\">\n",
              "      <th></th>\n",
              "      <th>Pregnancies</th>\n",
              "      <th>Glucose</th>\n",
              "      <th>BloodPressure</th>\n",
              "      <th>SkinThickness</th>\n",
              "      <th>Insulin</th>\n",
              "      <th>BMI</th>\n",
              "      <th>DiabetesPedigreeFunction</th>\n",
              "      <th>Age</th>\n",
              "      <th>Outcome</th>\n",
              "    </tr>\n",
              "  </thead>\n",
              "  <tbody>\n",
              "    <tr>\n",
              "      <th>count</th>\n",
              "      <td>750.000000</td>\n",
              "      <td>750.000000</td>\n",
              "      <td>750.000000</td>\n",
              "      <td>750.000000</td>\n",
              "      <td>750.000000</td>\n",
              "      <td>750.000000</td>\n",
              "      <td>750.000000</td>\n",
              "      <td>750.000000</td>\n",
              "      <td>750.000000</td>\n",
              "    </tr>\n",
              "    <tr>\n",
              "      <th>mean</th>\n",
              "      <td>3.833333</td>\n",
              "      <td>120.362667</td>\n",
              "      <td>70.057333</td>\n",
              "      <td>21.029333</td>\n",
              "      <td>81.714667</td>\n",
              "      <td>31.927200</td>\n",
              "      <td>0.473461</td>\n",
              "      <td>33.169333</td>\n",
              "      <td>0.333333</td>\n",
              "    </tr>\n",
              "    <tr>\n",
              "      <th>std</th>\n",
              "      <td>3.363625</td>\n",
              "      <td>31.899947</td>\n",
              "      <td>17.630934</td>\n",
              "      <td>15.818030</td>\n",
              "      <td>115.946738</td>\n",
              "      <td>7.788335</td>\n",
              "      <td>0.332792</td>\n",
              "      <td>11.771268</td>\n",
              "      <td>0.471719</td>\n",
              "    </tr>\n",
              "    <tr>\n",
              "      <th>min</th>\n",
              "      <td>0.000000</td>\n",
              "      <td>0.000000</td>\n",
              "      <td>0.000000</td>\n",
              "      <td>0.000000</td>\n",
              "      <td>0.000000</td>\n",
              "      <td>0.000000</td>\n",
              "      <td>0.078000</td>\n",
              "      <td>21.000000</td>\n",
              "      <td>0.000000</td>\n",
              "    </tr>\n",
              "    <tr>\n",
              "      <th>25%</th>\n",
              "      <td>1.000000</td>\n",
              "      <td>99.000000</td>\n",
              "      <td>64.000000</td>\n",
              "      <td>0.000000</td>\n",
              "      <td>0.000000</td>\n",
              "      <td>27.200000</td>\n",
              "      <td>0.245000</td>\n",
              "      <td>24.000000</td>\n",
              "      <td>0.000000</td>\n",
              "    </tr>\n",
              "    <tr>\n",
              "      <th>50%</th>\n",
              "      <td>3.000000</td>\n",
              "      <td>116.000000</td>\n",
              "      <td>72.000000</td>\n",
              "      <td>23.000000</td>\n",
              "      <td>40.500000</td>\n",
              "      <td>32.000000</td>\n",
              "      <td>0.374500</td>\n",
              "      <td>29.000000</td>\n",
              "      <td>0.000000</td>\n",
              "    </tr>\n",
              "    <tr>\n",
              "      <th>75%</th>\n",
              "      <td>6.000000</td>\n",
              "      <td>140.000000</td>\n",
              "      <td>80.000000</td>\n",
              "      <td>32.750000</td>\n",
              "      <td>130.000000</td>\n",
              "      <td>36.500000</td>\n",
              "      <td>0.625500</td>\n",
              "      <td>40.750000</td>\n",
              "      <td>1.000000</td>\n",
              "    </tr>\n",
              "    <tr>\n",
              "      <th>max</th>\n",
              "      <td>17.000000</td>\n",
              "      <td>199.000000</td>\n",
              "      <td>122.000000</td>\n",
              "      <td>99.000000</td>\n",
              "      <td>846.000000</td>\n",
              "      <td>67.100000</td>\n",
              "      <td>2.420000</td>\n",
              "      <td>81.000000</td>\n",
              "      <td>1.000000</td>\n",
              "    </tr>\n",
              "  </tbody>\n",
              "</table>\n",
              "</div>\n",
              "    <div class=\"colab-df-buttons\">\n",
              "\n",
              "  <div class=\"colab-df-container\">\n",
              "    <button class=\"colab-df-convert\" onclick=\"convertToInteractive('df-b028230e-c6ed-4ace-a1fd-f2555f5c9057')\"\n",
              "            title=\"Convert this dataframe to an interactive table.\"\n",
              "            style=\"display:none;\">\n",
              "\n",
              "  <svg xmlns=\"http://www.w3.org/2000/svg\" height=\"24px\" viewBox=\"0 -960 960 960\">\n",
              "    <path d=\"M120-120v-720h720v720H120Zm60-500h600v-160H180v160Zm220 220h160v-160H400v160Zm0 220h160v-160H400v160ZM180-400h160v-160H180v160Zm440 0h160v-160H620v160ZM180-180h160v-160H180v160Zm440 0h160v-160H620v160Z\"/>\n",
              "  </svg>\n",
              "    </button>\n",
              "\n",
              "  <style>\n",
              "    .colab-df-container {\n",
              "      display:flex;\n",
              "      gap: 12px;\n",
              "    }\n",
              "\n",
              "    .colab-df-convert {\n",
              "      background-color: #E8F0FE;\n",
              "      border: none;\n",
              "      border-radius: 50%;\n",
              "      cursor: pointer;\n",
              "      display: none;\n",
              "      fill: #1967D2;\n",
              "      height: 32px;\n",
              "      padding: 0 0 0 0;\n",
              "      width: 32px;\n",
              "    }\n",
              "\n",
              "    .colab-df-convert:hover {\n",
              "      background-color: #E2EBFA;\n",
              "      box-shadow: 0px 1px 2px rgba(60, 64, 67, 0.3), 0px 1px 3px 1px rgba(60, 64, 67, 0.15);\n",
              "      fill: #174EA6;\n",
              "    }\n",
              "\n",
              "    .colab-df-buttons div {\n",
              "      margin-bottom: 4px;\n",
              "    }\n",
              "\n",
              "    [theme=dark] .colab-df-convert {\n",
              "      background-color: #3B4455;\n",
              "      fill: #D2E3FC;\n",
              "    }\n",
              "\n",
              "    [theme=dark] .colab-df-convert:hover {\n",
              "      background-color: #434B5C;\n",
              "      box-shadow: 0px 1px 3px 1px rgba(0, 0, 0, 0.15);\n",
              "      filter: drop-shadow(0px 1px 2px rgba(0, 0, 0, 0.3));\n",
              "      fill: #FFFFFF;\n",
              "    }\n",
              "  </style>\n",
              "\n",
              "    <script>\n",
              "      const buttonEl =\n",
              "        document.querySelector('#df-b028230e-c6ed-4ace-a1fd-f2555f5c9057 button.colab-df-convert');\n",
              "      buttonEl.style.display =\n",
              "        google.colab.kernel.accessAllowed ? 'block' : 'none';\n",
              "\n",
              "      async function convertToInteractive(key) {\n",
              "        const element = document.querySelector('#df-b028230e-c6ed-4ace-a1fd-f2555f5c9057');\n",
              "        const dataTable =\n",
              "          await google.colab.kernel.invokeFunction('convertToInteractive',\n",
              "                                                    [key], {});\n",
              "        if (!dataTable) return;\n",
              "\n",
              "        const docLinkHtml = 'Like what you see? Visit the ' +\n",
              "          '<a target=\"_blank\" href=https://colab.research.google.com/notebooks/data_table.ipynb>data table notebook</a>'\n",
              "          + ' to learn more about interactive tables.';\n",
              "        element.innerHTML = '';\n",
              "        dataTable['output_type'] = 'display_data';\n",
              "        await google.colab.output.renderOutput(dataTable, element);\n",
              "        const docLink = document.createElement('div');\n",
              "        docLink.innerHTML = docLinkHtml;\n",
              "        element.appendChild(docLink);\n",
              "      }\n",
              "    </script>\n",
              "  </div>\n",
              "\n",
              "\n",
              "<div id=\"df-763e535e-f5b2-41b7-8cbb-3c55788ce88e\">\n",
              "  <button class=\"colab-df-quickchart\" onclick=\"quickchart('df-763e535e-f5b2-41b7-8cbb-3c55788ce88e')\"\n",
              "            title=\"Suggest charts.\"\n",
              "            style=\"display:none;\">\n",
              "\n",
              "<svg xmlns=\"http://www.w3.org/2000/svg\" height=\"24px\"viewBox=\"0 0 24 24\"\n",
              "     width=\"24px\">\n",
              "    <g>\n",
              "        <path d=\"M19 3H5c-1.1 0-2 .9-2 2v14c0 1.1.9 2 2 2h14c1.1 0 2-.9 2-2V5c0-1.1-.9-2-2-2zM9 17H7v-7h2v7zm4 0h-2V7h2v10zm4 0h-2v-4h2v4z\"/>\n",
              "    </g>\n",
              "</svg>\n",
              "  </button>\n",
              "\n",
              "<style>\n",
              "  .colab-df-quickchart {\n",
              "      --bg-color: #E8F0FE;\n",
              "      --fill-color: #1967D2;\n",
              "      --hover-bg-color: #E2EBFA;\n",
              "      --hover-fill-color: #174EA6;\n",
              "      --disabled-fill-color: #AAA;\n",
              "      --disabled-bg-color: #DDD;\n",
              "  }\n",
              "\n",
              "  [theme=dark] .colab-df-quickchart {\n",
              "      --bg-color: #3B4455;\n",
              "      --fill-color: #D2E3FC;\n",
              "      --hover-bg-color: #434B5C;\n",
              "      --hover-fill-color: #FFFFFF;\n",
              "      --disabled-bg-color: #3B4455;\n",
              "      --disabled-fill-color: #666;\n",
              "  }\n",
              "\n",
              "  .colab-df-quickchart {\n",
              "    background-color: var(--bg-color);\n",
              "    border: none;\n",
              "    border-radius: 50%;\n",
              "    cursor: pointer;\n",
              "    display: none;\n",
              "    fill: var(--fill-color);\n",
              "    height: 32px;\n",
              "    padding: 0;\n",
              "    width: 32px;\n",
              "  }\n",
              "\n",
              "  .colab-df-quickchart:hover {\n",
              "    background-color: var(--hover-bg-color);\n",
              "    box-shadow: 0 1px 2px rgba(60, 64, 67, 0.3), 0 1px 3px 1px rgba(60, 64, 67, 0.15);\n",
              "    fill: var(--button-hover-fill-color);\n",
              "  }\n",
              "\n",
              "  .colab-df-quickchart-complete:disabled,\n",
              "  .colab-df-quickchart-complete:disabled:hover {\n",
              "    background-color: var(--disabled-bg-color);\n",
              "    fill: var(--disabled-fill-color);\n",
              "    box-shadow: none;\n",
              "  }\n",
              "\n",
              "  .colab-df-spinner {\n",
              "    border: 2px solid var(--fill-color);\n",
              "    border-color: transparent;\n",
              "    border-bottom-color: var(--fill-color);\n",
              "    animation:\n",
              "      spin 1s steps(1) infinite;\n",
              "  }\n",
              "\n",
              "  @keyframes spin {\n",
              "    0% {\n",
              "      border-color: transparent;\n",
              "      border-bottom-color: var(--fill-color);\n",
              "      border-left-color: var(--fill-color);\n",
              "    }\n",
              "    20% {\n",
              "      border-color: transparent;\n",
              "      border-left-color: var(--fill-color);\n",
              "      border-top-color: var(--fill-color);\n",
              "    }\n",
              "    30% {\n",
              "      border-color: transparent;\n",
              "      border-left-color: var(--fill-color);\n",
              "      border-top-color: var(--fill-color);\n",
              "      border-right-color: var(--fill-color);\n",
              "    }\n",
              "    40% {\n",
              "      border-color: transparent;\n",
              "      border-right-color: var(--fill-color);\n",
              "      border-top-color: var(--fill-color);\n",
              "    }\n",
              "    60% {\n",
              "      border-color: transparent;\n",
              "      border-right-color: var(--fill-color);\n",
              "    }\n",
              "    80% {\n",
              "      border-color: transparent;\n",
              "      border-right-color: var(--fill-color);\n",
              "      border-bottom-color: var(--fill-color);\n",
              "    }\n",
              "    90% {\n",
              "      border-color: transparent;\n",
              "      border-bottom-color: var(--fill-color);\n",
              "    }\n",
              "  }\n",
              "</style>\n",
              "\n",
              "  <script>\n",
              "    async function quickchart(key) {\n",
              "      const quickchartButtonEl =\n",
              "        document.querySelector('#' + key + ' button');\n",
              "      quickchartButtonEl.disabled = true;  // To prevent multiple clicks.\n",
              "      quickchartButtonEl.classList.add('colab-df-spinner');\n",
              "      try {\n",
              "        const charts = await google.colab.kernel.invokeFunction(\n",
              "            'suggestCharts', [key], {});\n",
              "      } catch (error) {\n",
              "        console.error('Error during call to suggestCharts:', error);\n",
              "      }\n",
              "      quickchartButtonEl.classList.remove('colab-df-spinner');\n",
              "      quickchartButtonEl.classList.add('colab-df-quickchart-complete');\n",
              "    }\n",
              "    (() => {\n",
              "      let quickchartButtonEl =\n",
              "        document.querySelector('#df-763e535e-f5b2-41b7-8cbb-3c55788ce88e button');\n",
              "      quickchartButtonEl.style.display =\n",
              "        google.colab.kernel.accessAllowed ? 'block' : 'none';\n",
              "    })();\n",
              "  </script>\n",
              "</div>\n",
              "    </div>\n",
              "  </div>\n"
            ],
            "text/plain": [
              "       Pregnancies     Glucose  BloodPressure  SkinThickness     Insulin  \\\n",
              "count   750.000000  750.000000     750.000000     750.000000  750.000000   \n",
              "mean      3.833333  120.362667      70.057333      21.029333   81.714667   \n",
              "std       3.363625   31.899947      17.630934      15.818030  115.946738   \n",
              "min       0.000000    0.000000       0.000000       0.000000    0.000000   \n",
              "25%       1.000000   99.000000      64.000000       0.000000    0.000000   \n",
              "50%       3.000000  116.000000      72.000000      23.000000   40.500000   \n",
              "75%       6.000000  140.000000      80.000000      32.750000  130.000000   \n",
              "max      17.000000  199.000000     122.000000      99.000000  846.000000   \n",
              "\n",
              "              BMI  DiabetesPedigreeFunction         Age     Outcome  \n",
              "count  750.000000                750.000000  750.000000  750.000000  \n",
              "mean    31.927200                  0.473461   33.169333    0.333333  \n",
              "std      7.788335                  0.332792   11.771268    0.471719  \n",
              "min      0.000000                  0.078000   21.000000    0.000000  \n",
              "25%     27.200000                  0.245000   24.000000    0.000000  \n",
              "50%     32.000000                  0.374500   29.000000    0.000000  \n",
              "75%     36.500000                  0.625500   40.750000    1.000000  \n",
              "max     67.100000                  2.420000   81.000000    1.000000  "
            ]
          },
          "execution_count": 35,
          "metadata": {},
          "output_type": "execute_result"
        }
      ],
      "source": [
        "print()\n",
        "print(\"Description of Data\")\n",
        "# Generate descriptive statistics\n",
        "patients_df.describe()\n",
        "\n",
        "\n"
      ]
    },
    {
      "cell_type": "markdown",
      "metadata": {
        "id": "3dIhHFr1DjCS"
      },
      "source": [
        "4.  Correlation Matrix"
      ]
    },
    {
      "cell_type": "code",
      "execution_count": 36,
      "metadata": {
        "colab": {
          "base_uri": "https://localhost:8080/",
          "height": 332
        },
        "id": "P6dl9oprDobC",
        "outputId": "4231f0be-74f8-4013-c7ff-70c68ee89c66"
      },
      "outputs": [
        {
          "data": {
            "text/html": [
              "\n",
              "  <div id=\"df-332795ef-cb88-4339-abf4-4fabbfdbef1c\" class=\"colab-df-container\">\n",
              "    <div>\n",
              "<style scoped>\n",
              "    .dataframe tbody tr th:only-of-type {\n",
              "        vertical-align: middle;\n",
              "    }\n",
              "\n",
              "    .dataframe tbody tr th {\n",
              "        vertical-align: top;\n",
              "    }\n",
              "\n",
              "    .dataframe thead th {\n",
              "        text-align: right;\n",
              "    }\n",
              "</style>\n",
              "<table border=\"1\" class=\"dataframe\">\n",
              "  <thead>\n",
              "    <tr style=\"text-align: right;\">\n",
              "      <th></th>\n",
              "      <th>Pregnancies</th>\n",
              "      <th>Glucose</th>\n",
              "      <th>BloodPressure</th>\n",
              "      <th>SkinThickness</th>\n",
              "      <th>Insulin</th>\n",
              "      <th>BMI</th>\n",
              "      <th>DiabetesPedigreeFunction</th>\n",
              "      <th>Age</th>\n",
              "      <th>Outcome</th>\n",
              "    </tr>\n",
              "  </thead>\n",
              "  <tbody>\n",
              "    <tr>\n",
              "      <th>Pregnancies</th>\n",
              "      <td>1.000000</td>\n",
              "      <td>0.131886</td>\n",
              "      <td>0.150279</td>\n",
              "      <td>-0.079855</td>\n",
              "      <td>-0.072519</td>\n",
              "      <td>0.022572</td>\n",
              "      <td>-0.031778</td>\n",
              "      <td>0.549641</td>\n",
              "      <td>0.225227</td>\n",
              "    </tr>\n",
              "    <tr>\n",
              "      <th>Glucose</th>\n",
              "      <td>0.131886</td>\n",
              "      <td>1.000000</td>\n",
              "      <td>0.199062</td>\n",
              "      <td>0.081534</td>\n",
              "      <td>0.349798</td>\n",
              "      <td>0.213629</td>\n",
              "      <td>0.143800</td>\n",
              "      <td>0.259717</td>\n",
              "      <td>0.460600</td>\n",
              "    </tr>\n",
              "    <tr>\n",
              "      <th>BloodPressure</th>\n",
              "      <td>0.150279</td>\n",
              "      <td>0.199062</td>\n",
              "      <td>1.000000</td>\n",
              "      <td>0.163236</td>\n",
              "      <td>0.061275</td>\n",
              "      <td>0.329247</td>\n",
              "      <td>0.038306</td>\n",
              "      <td>0.249904</td>\n",
              "      <td>0.150364</td>\n",
              "    </tr>\n",
              "    <tr>\n",
              "      <th>SkinThickness</th>\n",
              "      <td>-0.079855</td>\n",
              "      <td>0.081534</td>\n",
              "      <td>0.163236</td>\n",
              "      <td>1.000000</td>\n",
              "      <td>0.426351</td>\n",
              "      <td>0.421581</td>\n",
              "      <td>0.182770</td>\n",
              "      <td>-0.109497</td>\n",
              "      <td>0.122149</td>\n",
              "    </tr>\n",
              "    <tr>\n",
              "      <th>Insulin</th>\n",
              "      <td>-0.072519</td>\n",
              "      <td>0.349798</td>\n",
              "      <td>0.061275</td>\n",
              "      <td>0.426351</td>\n",
              "      <td>1.000000</td>\n",
              "      <td>0.209788</td>\n",
              "      <td>0.184180</td>\n",
              "      <td>-0.038585</td>\n",
              "      <td>0.157724</td>\n",
              "    </tr>\n",
              "    <tr>\n",
              "      <th>BMI</th>\n",
              "      <td>0.022572</td>\n",
              "      <td>0.213629</td>\n",
              "      <td>0.329247</td>\n",
              "      <td>0.421581</td>\n",
              "      <td>0.209788</td>\n",
              "      <td>1.000000</td>\n",
              "      <td>0.144217</td>\n",
              "      <td>0.030895</td>\n",
              "      <td>0.294903</td>\n",
              "    </tr>\n",
              "    <tr>\n",
              "      <th>DiabetesPedigreeFunction</th>\n",
              "      <td>-0.031778</td>\n",
              "      <td>0.143800</td>\n",
              "      <td>0.038306</td>\n",
              "      <td>0.182770</td>\n",
              "      <td>0.184180</td>\n",
              "      <td>0.144217</td>\n",
              "      <td>1.000000</td>\n",
              "      <td>0.033215</td>\n",
              "      <td>0.185945</td>\n",
              "    </tr>\n",
              "    <tr>\n",
              "      <th>Age</th>\n",
              "      <td>0.549641</td>\n",
              "      <td>0.259717</td>\n",
              "      <td>0.249904</td>\n",
              "      <td>-0.109497</td>\n",
              "      <td>-0.038585</td>\n",
              "      <td>0.030895</td>\n",
              "      <td>0.033215</td>\n",
              "      <td>1.000000</td>\n",
              "      <td>0.237958</td>\n",
              "    </tr>\n",
              "    <tr>\n",
              "      <th>Outcome</th>\n",
              "      <td>0.225227</td>\n",
              "      <td>0.460600</td>\n",
              "      <td>0.150364</td>\n",
              "      <td>0.122149</td>\n",
              "      <td>0.157724</td>\n",
              "      <td>0.294903</td>\n",
              "      <td>0.185945</td>\n",
              "      <td>0.237958</td>\n",
              "      <td>1.000000</td>\n",
              "    </tr>\n",
              "  </tbody>\n",
              "</table>\n",
              "</div>\n",
              "    <div class=\"colab-df-buttons\">\n",
              "\n",
              "  <div class=\"colab-df-container\">\n",
              "    <button class=\"colab-df-convert\" onclick=\"convertToInteractive('df-332795ef-cb88-4339-abf4-4fabbfdbef1c')\"\n",
              "            title=\"Convert this dataframe to an interactive table.\"\n",
              "            style=\"display:none;\">\n",
              "\n",
              "  <svg xmlns=\"http://www.w3.org/2000/svg\" height=\"24px\" viewBox=\"0 -960 960 960\">\n",
              "    <path d=\"M120-120v-720h720v720H120Zm60-500h600v-160H180v160Zm220 220h160v-160H400v160Zm0 220h160v-160H400v160ZM180-400h160v-160H180v160Zm440 0h160v-160H620v160ZM180-180h160v-160H180v160Zm440 0h160v-160H620v160Z\"/>\n",
              "  </svg>\n",
              "    </button>\n",
              "\n",
              "  <style>\n",
              "    .colab-df-container {\n",
              "      display:flex;\n",
              "      gap: 12px;\n",
              "    }\n",
              "\n",
              "    .colab-df-convert {\n",
              "      background-color: #E8F0FE;\n",
              "      border: none;\n",
              "      border-radius: 50%;\n",
              "      cursor: pointer;\n",
              "      display: none;\n",
              "      fill: #1967D2;\n",
              "      height: 32px;\n",
              "      padding: 0 0 0 0;\n",
              "      width: 32px;\n",
              "    }\n",
              "\n",
              "    .colab-df-convert:hover {\n",
              "      background-color: #E2EBFA;\n",
              "      box-shadow: 0px 1px 2px rgba(60, 64, 67, 0.3), 0px 1px 3px 1px rgba(60, 64, 67, 0.15);\n",
              "      fill: #174EA6;\n",
              "    }\n",
              "\n",
              "    .colab-df-buttons div {\n",
              "      margin-bottom: 4px;\n",
              "    }\n",
              "\n",
              "    [theme=dark] .colab-df-convert {\n",
              "      background-color: #3B4455;\n",
              "      fill: #D2E3FC;\n",
              "    }\n",
              "\n",
              "    [theme=dark] .colab-df-convert:hover {\n",
              "      background-color: #434B5C;\n",
              "      box-shadow: 0px 1px 3px 1px rgba(0, 0, 0, 0.15);\n",
              "      filter: drop-shadow(0px 1px 2px rgba(0, 0, 0, 0.3));\n",
              "      fill: #FFFFFF;\n",
              "    }\n",
              "  </style>\n",
              "\n",
              "    <script>\n",
              "      const buttonEl =\n",
              "        document.querySelector('#df-332795ef-cb88-4339-abf4-4fabbfdbef1c button.colab-df-convert');\n",
              "      buttonEl.style.display =\n",
              "        google.colab.kernel.accessAllowed ? 'block' : 'none';\n",
              "\n",
              "      async function convertToInteractive(key) {\n",
              "        const element = document.querySelector('#df-332795ef-cb88-4339-abf4-4fabbfdbef1c');\n",
              "        const dataTable =\n",
              "          await google.colab.kernel.invokeFunction('convertToInteractive',\n",
              "                                                    [key], {});\n",
              "        if (!dataTable) return;\n",
              "\n",
              "        const docLinkHtml = 'Like what you see? Visit the ' +\n",
              "          '<a target=\"_blank\" href=https://colab.research.google.com/notebooks/data_table.ipynb>data table notebook</a>'\n",
              "          + ' to learn more about interactive tables.';\n",
              "        element.innerHTML = '';\n",
              "        dataTable['output_type'] = 'display_data';\n",
              "        await google.colab.output.renderOutput(dataTable, element);\n",
              "        const docLink = document.createElement('div');\n",
              "        docLink.innerHTML = docLinkHtml;\n",
              "        element.appendChild(docLink);\n",
              "      }\n",
              "    </script>\n",
              "  </div>\n",
              "\n",
              "\n",
              "<div id=\"df-c5ecabf3-9bb2-4c00-91de-e5b03d33ace1\">\n",
              "  <button class=\"colab-df-quickchart\" onclick=\"quickchart('df-c5ecabf3-9bb2-4c00-91de-e5b03d33ace1')\"\n",
              "            title=\"Suggest charts.\"\n",
              "            style=\"display:none;\">\n",
              "\n",
              "<svg xmlns=\"http://www.w3.org/2000/svg\" height=\"24px\"viewBox=\"0 0 24 24\"\n",
              "     width=\"24px\">\n",
              "    <g>\n",
              "        <path d=\"M19 3H5c-1.1 0-2 .9-2 2v14c0 1.1.9 2 2 2h14c1.1 0 2-.9 2-2V5c0-1.1-.9-2-2-2zM9 17H7v-7h2v7zm4 0h-2V7h2v10zm4 0h-2v-4h2v4z\"/>\n",
              "    </g>\n",
              "</svg>\n",
              "  </button>\n",
              "\n",
              "<style>\n",
              "  .colab-df-quickchart {\n",
              "      --bg-color: #E8F0FE;\n",
              "      --fill-color: #1967D2;\n",
              "      --hover-bg-color: #E2EBFA;\n",
              "      --hover-fill-color: #174EA6;\n",
              "      --disabled-fill-color: #AAA;\n",
              "      --disabled-bg-color: #DDD;\n",
              "  }\n",
              "\n",
              "  [theme=dark] .colab-df-quickchart {\n",
              "      --bg-color: #3B4455;\n",
              "      --fill-color: #D2E3FC;\n",
              "      --hover-bg-color: #434B5C;\n",
              "      --hover-fill-color: #FFFFFF;\n",
              "      --disabled-bg-color: #3B4455;\n",
              "      --disabled-fill-color: #666;\n",
              "  }\n",
              "\n",
              "  .colab-df-quickchart {\n",
              "    background-color: var(--bg-color);\n",
              "    border: none;\n",
              "    border-radius: 50%;\n",
              "    cursor: pointer;\n",
              "    display: none;\n",
              "    fill: var(--fill-color);\n",
              "    height: 32px;\n",
              "    padding: 0;\n",
              "    width: 32px;\n",
              "  }\n",
              "\n",
              "  .colab-df-quickchart:hover {\n",
              "    background-color: var(--hover-bg-color);\n",
              "    box-shadow: 0 1px 2px rgba(60, 64, 67, 0.3), 0 1px 3px 1px rgba(60, 64, 67, 0.15);\n",
              "    fill: var(--button-hover-fill-color);\n",
              "  }\n",
              "\n",
              "  .colab-df-quickchart-complete:disabled,\n",
              "  .colab-df-quickchart-complete:disabled:hover {\n",
              "    background-color: var(--disabled-bg-color);\n",
              "    fill: var(--disabled-fill-color);\n",
              "    box-shadow: none;\n",
              "  }\n",
              "\n",
              "  .colab-df-spinner {\n",
              "    border: 2px solid var(--fill-color);\n",
              "    border-color: transparent;\n",
              "    border-bottom-color: var(--fill-color);\n",
              "    animation:\n",
              "      spin 1s steps(1) infinite;\n",
              "  }\n",
              "\n",
              "  @keyframes spin {\n",
              "    0% {\n",
              "      border-color: transparent;\n",
              "      border-bottom-color: var(--fill-color);\n",
              "      border-left-color: var(--fill-color);\n",
              "    }\n",
              "    20% {\n",
              "      border-color: transparent;\n",
              "      border-left-color: var(--fill-color);\n",
              "      border-top-color: var(--fill-color);\n",
              "    }\n",
              "    30% {\n",
              "      border-color: transparent;\n",
              "      border-left-color: var(--fill-color);\n",
              "      border-top-color: var(--fill-color);\n",
              "      border-right-color: var(--fill-color);\n",
              "    }\n",
              "    40% {\n",
              "      border-color: transparent;\n",
              "      border-right-color: var(--fill-color);\n",
              "      border-top-color: var(--fill-color);\n",
              "    }\n",
              "    60% {\n",
              "      border-color: transparent;\n",
              "      border-right-color: var(--fill-color);\n",
              "    }\n",
              "    80% {\n",
              "      border-color: transparent;\n",
              "      border-right-color: var(--fill-color);\n",
              "      border-bottom-color: var(--fill-color);\n",
              "    }\n",
              "    90% {\n",
              "      border-color: transparent;\n",
              "      border-bottom-color: var(--fill-color);\n",
              "    }\n",
              "  }\n",
              "</style>\n",
              "\n",
              "  <script>\n",
              "    async function quickchart(key) {\n",
              "      const quickchartButtonEl =\n",
              "        document.querySelector('#' + key + ' button');\n",
              "      quickchartButtonEl.disabled = true;  // To prevent multiple clicks.\n",
              "      quickchartButtonEl.classList.add('colab-df-spinner');\n",
              "      try {\n",
              "        const charts = await google.colab.kernel.invokeFunction(\n",
              "            'suggestCharts', [key], {});\n",
              "      } catch (error) {\n",
              "        console.error('Error during call to suggestCharts:', error);\n",
              "      }\n",
              "      quickchartButtonEl.classList.remove('colab-df-spinner');\n",
              "      quickchartButtonEl.classList.add('colab-df-quickchart-complete');\n",
              "    }\n",
              "    (() => {\n",
              "      let quickchartButtonEl =\n",
              "        document.querySelector('#df-c5ecabf3-9bb2-4c00-91de-e5b03d33ace1 button');\n",
              "      quickchartButtonEl.style.display =\n",
              "        google.colab.kernel.accessAllowed ? 'block' : 'none';\n",
              "    })();\n",
              "  </script>\n",
              "</div>\n",
              "    </div>\n",
              "  </div>\n"
            ],
            "text/plain": [
              "                          Pregnancies   Glucose  BloodPressure  SkinThickness  \\\n",
              "Pregnancies                  1.000000  0.131886       0.150279      -0.079855   \n",
              "Glucose                      0.131886  1.000000       0.199062       0.081534   \n",
              "BloodPressure                0.150279  0.199062       1.000000       0.163236   \n",
              "SkinThickness               -0.079855  0.081534       0.163236       1.000000   \n",
              "Insulin                     -0.072519  0.349798       0.061275       0.426351   \n",
              "BMI                          0.022572  0.213629       0.329247       0.421581   \n",
              "DiabetesPedigreeFunction    -0.031778  0.143800       0.038306       0.182770   \n",
              "Age                          0.549641  0.259717       0.249904      -0.109497   \n",
              "Outcome                      0.225227  0.460600       0.150364       0.122149   \n",
              "\n",
              "                           Insulin       BMI  DiabetesPedigreeFunction  \\\n",
              "Pregnancies              -0.072519  0.022572                 -0.031778   \n",
              "Glucose                   0.349798  0.213629                  0.143800   \n",
              "BloodPressure             0.061275  0.329247                  0.038306   \n",
              "SkinThickness             0.426351  0.421581                  0.182770   \n",
              "Insulin                   1.000000  0.209788                  0.184180   \n",
              "BMI                       0.209788  1.000000                  0.144217   \n",
              "DiabetesPedigreeFunction  0.184180  0.144217                  1.000000   \n",
              "Age                      -0.038585  0.030895                  0.033215   \n",
              "Outcome                   0.157724  0.294903                  0.185945   \n",
              "\n",
              "                               Age   Outcome  \n",
              "Pregnancies               0.549641  0.225227  \n",
              "Glucose                   0.259717  0.460600  \n",
              "BloodPressure             0.249904  0.150364  \n",
              "SkinThickness            -0.109497  0.122149  \n",
              "Insulin                  -0.038585  0.157724  \n",
              "BMI                       0.030895  0.294903  \n",
              "DiabetesPedigreeFunction  0.033215  0.185945  \n",
              "Age                       1.000000  0.237958  \n",
              "Outcome                   0.237958  1.000000  "
            ]
          },
          "execution_count": 36,
          "metadata": {},
          "output_type": "execute_result"
        }
      ],
      "source": [
        "# Create a correlation matrix\n",
        "patients_df.corr()"
      ]
    },
    {
      "cell_type": "markdown",
      "metadata": {
        "id": "Lo-PBQJ8EBWq"
      },
      "source": [
        "5.  Outcome Counts Positive and Negative"
      ]
    },
    {
      "cell_type": "code",
      "execution_count": 37,
      "metadata": {
        "colab": {
          "base_uri": "https://localhost:8080/",
          "height": 442
        },
        "id": "ikbYcktlEHJq",
        "outputId": "452f4b66-5348-4aed-fbd4-cc2c59511e69"
      },
      "outputs": [
        {
          "data": {
            "text/plain": [
              "<Axes: >"
            ]
          },
          "execution_count": 37,
          "metadata": {},
          "output_type": "execute_result"
        },
        {
          "data": {
            "image/png": "[encoded data removed]",
            "text/plain": [
              "<Figure size 640x480 with 1 Axes>"
            ]
          },
          "metadata": {},
          "output_type": "display_data"
        }
      ],
      "source": [
        "# Count the number of positive and negative outcomes\n",
        "outcome_counts = patients_df['Outcome'].value_counts()\n",
        "\n",
        "# Plot the counts\n",
        "outcome_counts.plot(kind='bar', color=['skyblue', 'navy'])"
      ]
    },
    {
      "cell_type": "markdown",
      "metadata": {
        "id": "Lb0S8a0rEeu6"
      },
      "source": [
        "6.  Dataset Stratification and Breaking down into Training and Testing datasets"
      ]
    },
    {
      "cell_type": "code",
      "execution_count": 38,
      "metadata": {
        "colab": {
          "base_uri": "https://localhost:8080/"
        },
        "id": "4KxBa8BFEoAS",
        "outputId": "e3eb8673-3757-4e5c-d2a7-3759c64fbaf1"
      },
      "outputs": [
        {
          "data": {
            "text/plain": [
              "((600, 8), (150, 8), (600,), (150,))"
            ]
          },
          "execution_count": 38,
          "metadata": {},
          "output_type": "execute_result"
        }
      ],
      "source": [
        "from sklearn.model_selection import train_test_split\n",
        "\n",
        "# Define the features and the target\n",
        "X = patients_df.drop('Outcome', axis=1)\n",
        "y = patients_df['Outcome']\n",
        "\n",
        "# Split the dataset into training and testing datasets, stratifying on the target to maintain the same ratio of positive and negative cases\n",
        "X_train, X_test, y_train, y_test = train_test_split(X, y, test_size=0.2, stratify=y, random_state=42)\n",
        "\n",
        "# Print the shapes of the training and testing datasets\n",
        "X_train.shape, X_test.shape, y_train.shape, y_test.shape"
      ]
    },
    {
      "cell_type": "markdown",
      "metadata": {
        "id": "48jHeEkuF2oT"
      },
      "source": [
        "7.  Standard Scaling of data.  "
      ]
    },
    {
      "cell_type": "code",
      "execution_count": 39,
      "metadata": {
        "colab": {
          "base_uri": "https://localhost:8080/"
        },
        "id": "5zWXmTo_Gi56",
        "outputId": "0275454f-09cb-44bb-cfdd-07dd3a767adb"
      },
      "outputs": [
        {
          "data": {
            "text/plain": [
              "array([[-1.1556494 , -0.116375  ,  0.55087462,  0.64745234, -0.23778489,\n",
              "         1.73077696, -1.16608764, -0.79680955],\n",
              "       [-1.1556494 , -0.50465119,  1.12800885, -1.37108832, -0.72869961,\n",
              "        -0.30050366, -0.84595783,  1.07303687],\n",
              "       [ 0.6314373 ,  0.85431547,  0.55087462, -1.37108832, -0.72869961,\n",
              "        -0.31352469, -0.90227697,  1.41300894],\n",
              "       [-0.55995383, -0.79585834, -0.14168645, -0.52460353, -0.27483506,\n",
              "        -1.40729118,  0.48791636, -0.62682352],\n",
              "       [ 1.22713287, -1.79890516,  0.08916724,  0.12653862, -0.72869961,\n",
              "         0.01200105,  0.34860061,  0.73306479]])"
            ]
          },
          "execution_count": 39,
          "metadata": {},
          "output_type": "execute_result"
        }
      ],
      "source": [
        "from sklearn.preprocessing import StandardScaler\n",
        "\n",
        "# Initialize the StandardScaler\n",
        "scaler = StandardScaler()\n",
        "\n",
        "# Fit the scaler to the training data and transform it\n",
        "X_train_scaled = scaler.fit_transform(X_train)\n",
        "\n",
        "# Transform the testing data\n",
        "X_test_scaled = scaler.transform(X_test)\n",
        "\n",
        "# Print the first 5 rows of the scaled training data\n",
        "X_train_scaled[:5]"
      ]
    },
    {
      "cell_type": "markdown",
      "metadata": {
        "id": "ebTJU4NUIy5d"
      },
      "source": [
        "PERFORMANCE EVALUATIONS OF CLASSIFICATION MODELS (NO FEATURE ENGINEERING)\n",
        "\n",
        "1.  Logistic Regression"
      ]
    },
    {
      "cell_type": "code",
      "execution_count": 40,
      "metadata": {
        "colab": {
          "base_uri": "https://localhost:8080/"
        },
        "id": "4IuBPC69I-U1",
        "outputId": "301500b4-d27d-4c68-f670-9080f5c032af"
      },
      "outputs": [
        {
          "name": "stdout",
          "output_type": "stream",
          "text": [
            "Accuracy: 0.7966666666666666\n",
            "Precision: 0.7532467532467533\n",
            "Recall: 0.58\n",
            "F1 Score: 0.655367231638418\n",
            "ROC AUC: 0.7425\n"
          ]
        }
      ],
      "source": [
        "from sklearn.linear_model import LogisticRegression\n",
        "from sklearn.metrics import accuracy_score, precision_score, recall_score, f1_score, roc_auc_score\n",
        "\n",
        "# Initialize the Logistic Regression model\n",
        "logreg = LogisticRegression(random_state=42)\n",
        "\n",
        "# Train the model\n",
        "logreg.fit(X_train_scaled, y_train)\n",
        "\n",
        "# Make predictions on the training set\n",
        "y_pred_train = logreg.predict(X_train_scaled)\n",
        "\n",
        "# Calculate the performance metrics\n",
        "accuracy = accuracy_score(y_train, y_pred_train)\n",
        "precision = precision_score(y_train, y_pred_train)\n",
        "recall = recall_score(y_train, y_pred_train)\n",
        "f1 = f1_score(y_train, y_pred_train)\n",
        "roc_auc = roc_auc_score(y_train, y_pred_train)\n",
        "\n",
        "# Print the performance metrics\n",
        "print('Accuracy: ' + str(accuracy))\n",
        "print('Precision: ' + str(precision))\n",
        "print('Recall: ' + str(recall))\n",
        "print('F1 Score: ' + str(f1))\n",
        "print('ROC AUC: ' + str(roc_auc))"
      ]
    },
    {
      "cell_type": "markdown",
      "metadata": {
        "id": "0s1At0pWJBpl"
      },
      "source": [
        "2.  Decision Tree   SERIOUS OVERFITTING"
      ]
    },
    {
      "cell_type": "code",
      "execution_count": 41,
      "metadata": {
        "colab": {
          "base_uri": "https://localhost:8080/"
        },
        "id": "mdr2MWSFJExP",
        "outputId": "9c99fcfe-9be4-4811-9685-177eb16d51fc"
      },
      "outputs": [
        {
          "name": "stdout",
          "output_type": "stream",
          "text": [
            "Accuracy: 1.0\n",
            "Precision: 1.0\n",
            "Recall: 1.0\n",
            "F1 Score: 1.0\n",
            "ROC AUC: 1.0\n"
          ]
        }
      ],
      "source": [
        "from sklearn.tree import DecisionTreeClassifier\n",
        "\n",
        "# Initialize the Decision Tree model\n",
        "clf = DecisionTreeClassifier(random_state=42)\n",
        "\n",
        "# Train the model\n",
        "clf.fit(X_train_scaled, y_train)\n",
        "\n",
        "# Make predictions on the training set\n",
        "y_pred_train = clf.predict(X_train_scaled)\n",
        "\n",
        "# Calculate the performance metrics\n",
        "accuracy = accuracy_score(y_train, y_pred_train)\n",
        "precision = precision_score(y_train, y_pred_train)\n",
        "recall = recall_score(y_train, y_pred_train)\n",
        "f1 = f1_score(y_train, y_pred_train)\n",
        "roc_auc = roc_auc_score(y_train, y_pred_train)\n",
        "\n",
        "# Print the performance metrics\n",
        "print('Accuracy: ' + str(accuracy))\n",
        "print('Precision: ' + str(precision))\n",
        "print('Recall: ' + str(recall))\n",
        "print('F1 Score: ' + str(f1))\n",
        "print('ROC AUC: ' + str(roc_auc))"
      ]
    },
    {
      "cell_type": "markdown",
      "metadata": {
        "id": "6rCUNcuHJOSE"
      },
      "source": [
        "3. Random Forest  OVERFITTING"
      ]
    },
    {
      "cell_type": "code",
      "execution_count": 42,
      "metadata": {
        "colab": {
          "base_uri": "https://localhost:8080/"
        },
        "id": "hrz4YoosJUAE",
        "outputId": "a3bc2a8f-fd5b-4efa-d5d0-c39c62cc1162"
      },
      "outputs": [
        {
          "name": "stdout",
          "output_type": "stream",
          "text": [
            "Accuracy: 1.0\n",
            "Precision: 1.0\n",
            "Recall: 1.0\n",
            "F1 Score: 1.0\n",
            "ROC AUC: 1.0\n"
          ]
        }
      ],
      "source": [
        "from sklearn.ensemble import RandomForestClassifier\n",
        "\n",
        "# Initialize the Random Forest model\n",
        "rf = RandomForestClassifier(random_state=42)\n",
        "\n",
        "# Train the model\n",
        "rf.fit(X_train_scaled, y_train)\n",
        "\n",
        "# Make predictions on the training set\n",
        "y_pred_train = rf.predict(X_train_scaled)\n",
        "\n",
        "# Calculate the performance metrics\n",
        "accuracy = accuracy_score(y_train, y_pred_train)\n",
        "precision = precision_score(y_train, y_pred_train)\n",
        "recall = recall_score(y_train, y_pred_train)\n",
        "f1 = f1_score(y_train, y_pred_train)\n",
        "roc_auc = roc_auc_score(y_train, y_pred_train)\n",
        "\n",
        "# Print the performance metrics\n",
        "print('Accuracy: ' + str(accuracy))\n",
        "print('Precision: ' + str(precision))\n",
        "print('Recall: ' + str(recall))\n",
        "print('F1 Score: ' + str(f1))\n",
        "print('ROC AUC: ' + str(roc_auc))"
      ]
    },
    {
      "cell_type": "markdown",
      "metadata": {
        "id": "X3hOiYb0JpYV"
      },
      "source": [
        "4.  Support Vector Machine"
      ]
    },
    {
      "cell_type": "code",
      "execution_count": 43,
      "metadata": {
        "colab": {
          "base_uri": "https://localhost:8080/"
        },
        "id": "B93UAlaUJsv9",
        "outputId": "1ce91a0d-3677-41d6-ee41-9ec87c3bdc2b"
      },
      "outputs": [
        {
          "name": "stdout",
          "output_type": "stream",
          "text": [
            "Accuracy: 0.8416666666666667\n",
            "Precision: 0.8387096774193549\n",
            "Recall: 0.65\n",
            "F1 Score: 0.7323943661971831\n",
            "ROC AUC: 0.79375\n"
          ]
        }
      ],
      "source": [
        "from sklearn.svm import SVC\n",
        "\n",
        "# Initialize the Support Vector Machine model\n",
        "svm = SVC(random_state=42)\n",
        "\n",
        "# Train the model\n",
        "svm.fit(X_train_scaled, y_train)\n",
        "\n",
        "# Make predictions on the training set\n",
        "y_pred_train = svm.predict(X_train_scaled)\n",
        "\n",
        "# Calculate the performance metrics\n",
        "accuracy = accuracy_score(y_train, y_pred_train)\n",
        "precision = precision_score(y_train, y_pred_train)\n",
        "recall = recall_score(y_train, y_pred_train)\n",
        "f1 = f1_score(y_train, y_pred_train)\n",
        "roc_auc = roc_auc_score(y_train, y_pred_train)\n",
        "\n",
        "# Print the performance metrics\n",
        "print('Accuracy: ' + str(accuracy))\n",
        "print('Precision: ' + str(precision))\n",
        "print('Recall: ' + str(recall))\n",
        "print('F1 Score: ' + str(f1))\n",
        "print('ROC AUC: ' + str(roc_auc))"
      ]
    },
    {
      "cell_type": "markdown",
      "metadata": {
        "id": "bZPutHMBJ2Kl"
      },
      "source": [
        "5.  K-Nearest Neighbors"
      ]
    },
    {
      "cell_type": "code",
      "execution_count": 44,
      "metadata": {
        "colab": {
          "base_uri": "https://localhost:8080/"
        },
        "id": "eGjOdjLVKC0F",
        "outputId": "bdd93c51-23b6-460c-a27f-cdd1e664a015"
      },
      "outputs": [
        {
          "name": "stdout",
          "output_type": "stream",
          "text": [
            "Accuracy: 0.8183333333333334\n",
            "Precision: 0.7630057803468208\n",
            "Recall: 0.66\n",
            "F1 Score: 0.7077747989276139\n",
            "ROC AUC: 0.77875\n"
          ]
        }
      ],
      "source": [
        "from sklearn.neighbors import KNeighborsClassifier\n",
        "\n",
        "# Initialize the K-Nearest Neighbors model\n",
        "knn = KNeighborsClassifier()\n",
        "\n",
        "# Train the model\n",
        "knn.fit(X_train_scaled, y_train)\n",
        "\n",
        "# Make predictions on the training set\n",
        "y_pred_train = knn.predict(X_train_scaled)\n",
        "\n",
        "# Calculate the performance metrics\n",
        "accuracy = accuracy_score(y_train, y_pred_train)\n",
        "precision = precision_score(y_train, y_pred_train)\n",
        "recall = recall_score(y_train, y_pred_train)\n",
        "f1 = f1_score(y_train, y_pred_train)\n",
        "roc_auc = roc_auc_score(y_train, y_pred_train)\n",
        "\n",
        "# Print the performance metrics\n",
        "print('Accuracy: ' + str(accuracy))\n",
        "print('Precision: ' + str(precision))\n",
        "print('Recall: ' + str(recall))\n",
        "print('F1 Score: ' + str(f1))\n",
        "print('ROC AUC: ' + str(roc_auc))"
      ]
    },
    {
      "cell_type": "markdown",
      "metadata": {
        "id": "aVMkgnBTLBkG"
      },
      "source": [
        "DECISION TREE PARAMETERS TWEEKING TO SOLVE OVERFITTING"
      ]
    },
    {
      "cell_type": "code",
      "execution_count": 45,
      "metadata": {
        "colab": {
          "base_uri": "https://localhost:8080/"
        },
        "id": "3eVszW7ZLI4d",
        "outputId": "c568de69-efaa-4296-bf04-a42398b70b89"
      },
      "outputs": [
        {
          "name": "stdout",
          "output_type": "stream",
          "text": [
            "Best parameters for Decision Tree: {'max_depth': 3, 'min_samples_leaf': 2, 'min_samples_split': 2}\n",
            "Accuracy: 0.78\n",
            "Precision: 0.8617021276595744\n",
            "Recall: 0.405\n",
            "F1 Score: 0.5510204081632654\n",
            "ROC AUC: 0.68625\n"
          ]
        }
      ],
      "source": [
        "from sklearn.tree import DecisionTreeClassifier\n",
        "from sklearn.model_selection import GridSearchCV\n",
        "\n",
        "# Initialize the Decision Tree model\n",
        "dt = DecisionTreeClassifier(random_state=42)\n",
        "\n",
        "# Define the parameter grid for the Decision Tree model\n",
        "param_grid_dt = {\n",
        "    'max_depth': [3, 5, 7, 10],\n",
        "    'min_samples_split': [2, 5, 10],\n",
        "    'min_samples_leaf': [1, 2, 5]\n",
        "}\n",
        "\n",
        "# Initialize the Grid Search object for the Decision Tree model\n",
        "grid_search_dt = GridSearchCV(dt, param_grid_dt, cv=5, scoring='accuracy')\n",
        "\n",
        "# Perform the grid search\n",
        "grid_search_dt.fit(X_train_scaled, y_train)\n",
        "\n",
        "# Print the best parameters\n",
        "print('Best parameters for Decision Tree: ' + str(grid_search_dt.best_params_))\n",
        "\n",
        "# Make predictions on the training set using the best model\n",
        "y_pred_train = grid_search_dt.best_estimator_.predict(X_train_scaled)\n",
        "\n",
        "# Calculate the performance metrics\n",
        "accuracy = accuracy_score(y_train, y_pred_train)\n",
        "precision = precision_score(y_train, y_pred_train)\n",
        "recall = recall_score(y_train, y_pred_train)\n",
        "f1 = f1_score(y_train, y_pred_train)\n",
        "roc_auc = roc_auc_score(y_train, y_pred_train)\n",
        "\n",
        "# Print the performance metrics\n",
        "print('Accuracy: ' + str(accuracy))\n",
        "print('Precision: ' + str(precision))\n",
        "print('Recall: ' + str(recall))\n",
        "print('F1 Score: ' + str(f1))\n",
        "print('ROC AUC: ' + str(roc_auc))"
      ]
    },
    {
      "cell_type": "markdown",
      "metadata": {
        "id": "1ZjebyJtLdmO"
      },
      "source": [
        "RANDOM FOREST PARAMETERS TWEEKING TO FIX OVERFITTING"
      ]
    },
    {
      "cell_type": "code",
      "execution_count": 46,
      "metadata": {
        "colab": {
          "base_uri": "https://localhost:8080/"
        },
        "id": "-LN0-GQLLlWB",
        "outputId": "f78c2007-9be6-4c0c-da44-055850e432d8"
      },
      "outputs": [
        {
          "name": "stdout",
          "output_type": "stream",
          "text": [
            "Best parameters for Random Forest: {'max_depth': 8, 'min_samples_leaf': 1, 'min_samples_split': 5, 'n_estimators': 188}\n",
            "Accuracy: 0.95\n",
            "Precision: 0.9722222222222222\n",
            "Recall: 0.875\n",
            "F1 Score: 0.9210526315789473\n",
            "ROC AUC: 0.93125\n"
          ]
        }
      ],
      "source": [
        "from sklearn.model_selection import RandomizedSearchCV\n",
        "from scipy.stats import randint\n",
        "\n",
        "# Define the parameter distribution for the Random Forest model\n",
        "param_dist_rf = {\n",
        "    'n_estimators': randint(100, 300),\n",
        "    'max_depth': randint(3, 10),\n",
        "    'min_samples_split': randint(2, 10),\n",
        "    'min_samples_leaf': randint(1, 5)\n",
        "}\n",
        "\n",
        "# Initialize the Randomized Search object for the Random Forest model\n",
        "random_search_rf = RandomizedSearchCV(rf, param_dist_rf, n_iter=10, cv=5, scoring='accuracy', random_state=42)\n",
        "\n",
        "# Perform the randomized search\n",
        "random_search_rf.fit(X_train_scaled, y_train)\n",
        "\n",
        "# Print the best parameters\n",
        "print('Best parameters for Random Forest: ' + str(random_search_rf.best_params_))\n",
        "\n",
        "# Make predictions on the training set using the best model\n",
        "y_pred_train = random_search_rf.best_estimator_.predict(X_train_scaled)\n",
        "\n",
        "# Calculate the performance metrics\n",
        "accuracy = accuracy_score(y_train, y_pred_train)\n",
        "precision = precision_score(y_train, y_pred_train)\n",
        "recall = recall_score(y_train, y_pred_train)\n",
        "f1 = f1_score(y_train, y_pred_train)\n",
        "roc_auc = roc_auc_score(y_train, y_pred_train)\n",
        "\n",
        "# Print the performance metrics\n",
        "print('Accuracy: ' + str(accuracy))\n",
        "print('Precision: ' + str(precision))\n",
        "print('Recall: ' + str(recall))\n",
        "print('F1 Score: ' + str(f1))\n",
        "print('ROC AUC: ' + str(roc_auc))"
      ]
    },
    {
      "cell_type": "markdown",
      "metadata": {
        "id": "BB-t0qlqOBXY"
      },
      "source": [
        "ENSEMBLE MODEL USING LOGISTIC REGRESSION< SVM MODEL AND DECISION TREE THAT HAS BEEN GENERALIZED.  STACKING WITH SOFT VOTING"
      ]
    },
    {
      "cell_type": "code",
      "execution_count": 47,
      "metadata": {
        "colab": {
          "base_uri": "https://localhost:8080/"
        },
        "id": "6B4kDN8oOccK",
        "outputId": "1d3b8602-9b2d-43b7-aa1f-2b4cd4bcab2d"
      },
      "outputs": [
        {
          "name": "stdout",
          "output_type": "stream",
          "text": [
            "Accuracy: 0.82\n",
            "Precision: 0.823943661971831\n",
            "Recall: 0.585\n",
            "F1 Score: 0.6842105263157894\n",
            "ROC AUC: 0.76125\n"
          ]
        }
      ],
      "source": [
        "from sklearn.ensemble import VotingClassifier\n",
        "\n",
        "# Initialize the individual models\n",
        "lr = LogisticRegression(C=0.01, penalty='l2', random_state=42)\n",
        "svm = SVC(C=1, kernel='linear', probability=True, random_state=42)\n",
        "dt = DecisionTreeClassifier(max_depth=5, min_samples_leaf=5, random_state=42)\n",
        "\n",
        "# Create an ensemble model\n",
        "ensemble = VotingClassifier(estimators=[('lr', lr), ('svm', svm), ('dt', dt)], voting='soft')\n",
        "\n",
        "# Fit the ensemble model\n",
        "ensemble.fit(X_train_scaled, y_train)\n",
        "\n",
        "# Make predictions on the training set\n",
        "y_pred_train = ensemble.predict(X_train_scaled)\n",
        "\n",
        "# Calculate the performance metrics\n",
        "accuracy = accuracy_score(y_train, y_pred_train)\n",
        "precision = precision_score(y_train, y_pred_train)\n",
        "recall = recall_score(y_train, y_pred_train)\n",
        "f1 = f1_score(y_train, y_pred_train)\n",
        "roc_auc = roc_auc_score(y_train, y_pred_train)\n",
        "\n",
        "# Print the performance metrics\n",
        "print('Accuracy: ' + str(accuracy))\n",
        "print('Precision: ' + str(precision))\n",
        "print('Recall: ' + str(recall))\n",
        "print('F1 Score: ' + str(f1))\n",
        "print('ROC AUC: ' + str(roc_auc))"
      ]
    },
    {
      "cell_type": "markdown",
      "metadata": {
        "id": "IkGHphgJPXyg"
      },
      "source": [
        "SVM MODEL with POLYNOMIAL KERNEL"
      ]
    },
    {
      "cell_type": "code",
      "execution_count": 48,
      "metadata": {
        "colab": {
          "base_uri": "https://localhost:8080/"
        },
        "id": "EG2WLSVIPayQ",
        "outputId": "ca27ee64-acaa-4651-a07b-7a64176bcc8a"
      },
      "outputs": [
        {
          "name": "stdout",
          "output_type": "stream",
          "text": [
            "Accuracy: 0.825\n",
            "Precision: 0.9203539823008849\n",
            "Recall: 0.52\n",
            "F1 Score: 0.6645367412140575\n",
            "ROC AUC: 0.74875\n"
          ]
        }
      ],
      "source": [
        "from sklearn.svm import SVC\n",
        "\n",
        "# Initialize the SVM model with a polynomial kernel\n",
        "svm_poly = SVC(kernel='poly', degree=3, random_state=42)\n",
        "\n",
        "# Fit the model\n",
        "svm_poly.fit(X_train_scaled, y_train)\n",
        "\n",
        "# Make predictions on the training set\n",
        "y_pred_train = svm_poly.predict(X_train_scaled)\n",
        "\n",
        "# Calculate the performance metrics\n",
        "accuracy = accuracy_score(y_train, y_pred_train)\n",
        "precision = precision_score(y_train, y_pred_train)\n",
        "recall = recall_score(y_train, y_pred_train)\n",
        "f1 = f1_score(y_train, y_pred_train)\n",
        "roc_auc = roc_auc_score(y_train, y_pred_train)\n",
        "\n",
        "# Print the performance metrics\n",
        "print('Accuracy: ' + str(accuracy))\n",
        "print('Precision: ' + str(precision))\n",
        "print('Recall: ' + str(recall))\n",
        "print('F1 Score: ' + str(f1))\n",
        "print('ROC AUC: ' + str(roc_auc))"
      ]
    },
    {
      "cell_type": "markdown",
      "metadata": {
        "id": "c4HUFdNEPiog"
      },
      "source": [
        "I asked ChatGPT for this as I had zero idea how to do this.\n",
        "\n",
        "I asked for code to find a models False Positive Rate.\n",
        "\n"
      ]
    },
    {
      "cell_type": "code",
      "execution_count": 52,
      "metadata": {
        "colab": {
          "base_uri": "https://localhost:8080/"
        },
        "id": "AjL1Jr42P6LD",
        "outputId": "b999234f-8327-44e4-be30-328d66be1cca"
      },
      "outputs": [
        {
          "name": "stdout",
          "output_type": "stream",
          "text": [
            "Accuracy for Bagging with Logistic Regression: 0.7816666666666666\n",
            "Accuracy for Bagging with SVM: 0.7933333333333333\n",
            "Accuracy for Bagging with Decision Tree: 0.8466666666666667\n"
          ]
        }
      ],
      "source": [
        "from sklearn.ensemble import BaggingClassifier\n",
        "\n",
        "# Initialize the individual models\n",
        "lr = LogisticRegression(C=0.01, penalty='l2', random_state=42)\n",
        "svm = SVC(C=1, kernel='linear', probability=True, random_state=42)\n",
        "dt = DecisionTreeClassifier(max_depth=5, min_samples_leaf=5, random_state=42)\n",
        "\n",
        "# Create bagging classifiers\n",
        "bagging_lr = BaggingClassifier(lr, n_estimators=10, random_state=42)\n",
        "bagging_svm = BaggingClassifier(svm, n_estimators=10, random_state=42)\n",
        "bagging_dt = BaggingClassifier(dt, n_estimators=10, random_state=42)\n",
        "\n",
        "# Fit the bagging classifiers\n",
        "bagging_lr.fit(X_train_scaled, y_train)\n",
        "bagging_svm.fit(X_train_scaled, y_train)\n",
        "bagging_dt.fit(X_train_scaled, y_train)\n",
        "\n",
        "# Make predictions on the training set\n",
        "y_pred_train_lr = bagging_lr.predict(X_train_scaled)\n",
        "y_pred_train_svm = bagging_svm.predict(X_train_scaled)\n",
        "y_pred_train_dt = bagging_dt.predict(X_train_scaled)\n",
        "\n",
        "# Calculate the performance metrics for each model\n",
        "accuracy_lr = accuracy_score(y_train, y_pred_train_lr)\n",
        "accuracy_svm = accuracy_score(y_train, y_pred_train_svm)\n",
        "accuracy_dt = accuracy_score(y_train, y_pred_train_dt)\n",
        "\n",
        "# Print the performance metrics\n",
        "print('Accuracy for Bagging with Logistic Regression: ' + str(accuracy_lr))\n",
        "print('Accuracy for Bagging with SVM: ' + str(accuracy_svm))\n",
        "print('Accuracy for Bagging with Decision Tree: ' + str(accuracy_dt))\n"
      ]
    },
    {
      "cell_type": "markdown",
      "metadata": {
        "id": "dIi4uCK9XVCk"
      },
      "source": [
        "ROC CURVES FOR ALL MODELS RUN"
      ]
    },
    {
      "cell_type": "code",
      "execution_count": 53,
      "metadata": {
        "colab": {
          "base_uri": "https://localhost:8080/",
          "height": 472
        },
        "id": "VXoXDehlXVe0",
        "outputId": "78c8edcc-8827-4cf7-eab6-8e7594b7a426"
      },
      "outputs": [
        {
          "data": {
            "image/png": "[encoded data removed]",
            "text/plain": [
              "<Figure size 640x480 with 1 Axes>"
            ]
          },
          "metadata": {},
          "output_type": "display_data"
        }
      ],
      "source": [
        "# Make predictions on the training set\n",
        "y_pred_train_lr = bagging_lr.predict(X_train_scaled)\n",
        "y_pred_train_svm = bagging_svm.predict(X_train_scaled)\n",
        "y_pred_train_dt = bagging_dt.predict(X_train_scaled)\n",
        "y_pred_train = svm_poly.predict(X_train_scaled)\n",
        "\n",
        "# Calculate ROC curve for each model\n",
        "fpr_lr, tpr_lr, _ = roc_curve(y_train, y_pred_train_lr)\n",
        "fpr_svm, tpr_svm, _ = roc_curve(y_train, y_pred_train_svm)\n",
        "fpr_dt, tpr_dt, _ = roc_curve(y_train, y_pred_train_dt)\n",
        "fpr_svm_poly, tpr_svm_poly, _ = roc_curve(y_train, y_pred_train)\n",
        "\n",
        "# Calculate AUC for each model\n",
        "roc_auc_lr = auc(fpr_lr, tpr_lr)\n",
        "roc_auc_svm = auc(fpr_svm, tpr_svm)\n",
        "roc_auc_dt = auc(fpr_dt, tpr_dt)\n",
        "roc_auc_svm_poly = auc(fpr_svm_poly, tpr_svm_poly)\n",
        "\n",
        "# Plot ROC curve\n",
        "plt.figure()\n",
        "plt.plot(fpr_lr, tpr_lr, label='Logistic Regression (area = %0.2f)' % roc_auc_lr)\n",
        "plt.plot(fpr_svm, tpr_svm, label='SVM (area = %0.2f)' % roc_auc_svm)\n",
        "plt.plot(fpr_dt, tpr_dt, label='Decision Tree (area = %0.2f)' % roc_auc_dt)\n",
        "plt.plot(fpr_svm_poly, tpr_svm_poly, label='SVM with Polynomial Kernel (area = %0.2f)' % roc_auc_svm_poly)\n",
        "plt.plot([0, 1], [0, 1], 'k--')\n",
        "plt.xlim([0.0, 1.0])\n",
        "plt.ylim([0.0, 1.05])\n",
        "plt.xlabel('False Positive Rate')\n",
        "plt.ylabel('True Positive Rate')\n",
        "plt.title('Receiver Operating Characteristic')\n",
        "plt.legend(loc='lower right')\n",
        "plt.show()"
      ]
    },
    {
      "cell_type": "markdown",
      "metadata": {
        "id": "BhiwAzPTXg5E"
      },
      "source": [
        "I have narrowed the models down to either SVM with polynomial Kernel model or the Ensemble model.\n",
        "\n",
        "Cross Validations are done below for each model.\n",
        "\n",
        "The Ensemble model had the best cross validation rate."
      ]
    },
    {
      "cell_type": "code",
      "execution_count": 57,
      "metadata": {
        "colab": {
          "base_uri": "https://localhost:8080/"
        },
        "id": "JDtVTkpyZAbd",
        "outputId": "353e4019-2b73-4794-e614-89df16a56918"
      },
      "outputs": [
        {
          "name": "stderr",
          "output_type": "stream",
          "text": [
            "/usr/local/lib/python3.10/dist-packages/sklearn/ensemble/_base.py:166: FutureWarning: `base_estimator` was renamed to `estimator` in version 1.2 and will be removed in 1.4.\n",
            "  warnings.warn(\n",
            "/usr/local/lib/python3.10/dist-packages/sklearn/ensemble/_base.py:166: FutureWarning: `base_estimator` was renamed to `estimator` in version 1.2 and will be removed in 1.4.\n",
            "  warnings.warn(\n",
            "/usr/local/lib/python3.10/dist-packages/sklearn/ensemble/_base.py:166: FutureWarning: `base_estimator` was renamed to `estimator` in version 1.2 and will be removed in 1.4.\n",
            "  warnings.warn(\n",
            "/usr/local/lib/python3.10/dist-packages/sklearn/ensemble/_base.py:166: FutureWarning: `base_estimator` was renamed to `estimator` in version 1.2 and will be removed in 1.4.\n",
            "  warnings.warn(\n"
          ]
        },
        {
          "name": "stdout",
          "output_type": "stream",
          "text": [
            "SVM with Polynomial Kernel: Mean cross-validation score = 0.7516666666666667, Standard deviation = 0.020682789409984765\n",
            "Ensemble model: Mean cross-validation score = 0.7833333333333334, Standard deviation = 0.019720265943665383\n"
          ]
        },
        {
          "name": "stderr",
          "output_type": "stream",
          "text": [
            "/usr/local/lib/python3.10/dist-packages/sklearn/ensemble/_base.py:166: FutureWarning: `base_estimator` was renamed to `estimator` in version 1.2 and will be removed in 1.4.\n",
            "  warnings.warn(\n"
          ]
        }
      ],
      "source": [
        "from sklearn.model_selection import cross_val_score\n",
        "\n",
        "# Define the models\n",
        "svm_poly = SVC(kernel='poly', degree=3, coef0=1, C=5)\n",
        "bagging_lr = BaggingClassifier(base_estimator=LogisticRegression(), n_estimators=10, random_state=0)\n",
        "\n",
        "# Perform cross-validation\n",
        "scores_svm_poly = cross_val_score(svm_poly, X_train_scaled, y_train, cv=5)\n",
        "scores_bagging_lr = cross_val_score(bagging_lr, X_train_scaled, y_train, cv=5)\n",
        "\n",
        "# Calculate the mean and standard deviation of the cross-validation scores\n",
        "mean_svm_poly = scores_svm_poly.mean()\n",
        "std_svm_poly = scores_svm_poly.std()\n",
        "mean_bagging_lr = scores_bagging_lr.mean()\n",
        "std_bagging_lr = scores_bagging_lr.std()\n",
        "\n",
        "# Print the results\n",
        "print(f'SVM with Polynomial Kernel: Mean cross-validation score = {mean_svm_poly}, Standard deviation = {std_svm_poly}')\n",
        "print(f'Ensemble model: Mean cross-validation score = {mean_bagging_lr}, Standard deviation = {std_bagging_lr}')"
      ]
    },
    {
      "cell_type": "markdown",
      "metadata": {
        "id": "FoN3OTSEZLmw"
      },
      "source": [
        "ENSEMBLE MODEL PREDICITON ON TEST DATA"
      ]
    },
    {
      "cell_type": "code",
      "execution_count": 54,
      "metadata": {
        "colab": {
          "base_uri": "https://localhost:8080/"
        },
        "id": "GjfSLN38XleE",
        "outputId": "84146b60-ca79-413b-8c08-bbcfdace9cc6"
      },
      "outputs": [
        {
          "name": "stdout",
          "output_type": "stream",
          "text": [
            "[0 0 0 0 0 0 0 0 1 0 1 1 0 0 0 0 0 0 0 0 0 0 1 1 1 0 0 0 0 0 1 0 0 0 0 0 0\n",
            " 0 0 0 0 0 0 0 0 0 1 0 0 0 0 1 0 1 1 0 0 0 0 0 1 0 0 0 1 0 0 1 0 0 0 0 0 0\n",
            " 0 1 0 0 0 0 1 0 0 0 0 0 0 0 0 0 0 0 0 0 0 0 0 0 0 0 0 1 0 1 1 0 0 1 0 0 1\n",
            " 1 0 0 1 0 1 0 0 0 1 0 0 0 0 0 0 0 0 0 1 0 0 0 0 1 0 0 0 0 0 0 0 1 0 0 0 0\n",
            " 1 0]\n"
          ]
        }
      ],
      "source": [
        "# Make predictions on the test set\n",
        "y_pred_test = bagging_lr.predict(X_test_scaled)\n",
        "\n",
        "# Print the predictions\n",
        "print(y_pred_test)"
      ]
    },
    {
      "cell_type": "markdown",
      "metadata": {
        "id": "mIH_NIwQXobM"
      },
      "source": [
        "ENSEMBLE MODEL PERFORMANCE MEASURES"
      ]
    },
    {
      "cell_type": "code",
      "execution_count": 55,
      "metadata": {
        "colab": {
          "base_uri": "https://localhost:8080/"
        },
        "id": "EGyVmEQ4Xo9u",
        "outputId": "bcdaff74-9d28-4b61-e5ef-205c913e96f2"
      },
      "outputs": [
        {
          "name": "stdout",
          "output_type": "stream",
          "text": [
            "Accuracy: 0.7133333333333334\n",
            "Precision: 0.6206896551724138\n",
            "Recall: 0.36\n",
            "F1 Score: 0.45569620253164556\n"
          ]
        }
      ],
      "source": [
        "# Calculate performance measures on the test set\n",
        "accuracy = accuracy_score(y_test, y_pred_test)\n",
        "precision = precision_score(y_test, y_pred_test)\n",
        "recall = recall_score(y_test, y_pred_test)\n",
        "f1 = f1_score(y_test, y_pred_test)\n",
        "\n",
        "# Print performance measures\n",
        "print(f'Accuracy: {accuracy}')\n",
        "print(f'Precision: {precision}')\n",
        "print(f'Recall: {recall}')\n",
        "print(f'F1 Score: {f1}')"
      ]
    },
    {
      "cell_type": "markdown",
      "metadata": {
        "id": "VskJ5JEGa6Rm"
      },
      "source": [
        "This was awful Recall\n",
        "\n",
        "Attempting to tweek the Max Samples in the Ensemble Model."
      ]
    },
    {
      "cell_type": "code",
      "execution_count": 58,
      "metadata": {
        "colab": {
          "base_uri": "https://localhost:8080/"
        },
        "id": "8M4-nO2WbQMp",
        "outputId": "66da7676-2f00-4729-8813-cab94dc32ea9"
      },
      "outputs": [
        {
          "name": "stderr",
          "output_type": "stream",
          "text": [
            "/usr/local/lib/python3.10/dist-packages/sklearn/ensemble/_base.py:166: FutureWarning: `base_estimator` was renamed to `estimator` in version 1.2 and will be removed in 1.4.\n",
            "  warnings.warn(\n",
            "/usr/local/lib/python3.10/dist-packages/sklearn/ensemble/_base.py:166: FutureWarning: `base_estimator` was renamed to `estimator` in version 1.2 and will be removed in 1.4.\n",
            "  warnings.warn(\n",
            "/usr/local/lib/python3.10/dist-packages/sklearn/ensemble/_base.py:166: FutureWarning: `base_estimator` was renamed to `estimator` in version 1.2 and will be removed in 1.4.\n",
            "  warnings.warn(\n",
            "/usr/local/lib/python3.10/dist-packages/sklearn/ensemble/_base.py:166: FutureWarning: `base_estimator` was renamed to `estimator` in version 1.2 and will be removed in 1.4.\n",
            "  warnings.warn(\n",
            "/usr/local/lib/python3.10/dist-packages/sklearn/ensemble/_base.py:166: FutureWarning: `base_estimator` was renamed to `estimator` in version 1.2 and will be removed in 1.4.\n",
            "  warnings.warn(\n",
            "/usr/local/lib/python3.10/dist-packages/sklearn/ensemble/_base.py:166: FutureWarning: `base_estimator` was renamed to `estimator` in version 1.2 and will be removed in 1.4.\n",
            "  warnings.warn(\n",
            "/usr/local/lib/python3.10/dist-packages/sklearn/ensemble/_base.py:166: FutureWarning: `base_estimator` was renamed to `estimator` in version 1.2 and will be removed in 1.4.\n",
            "  warnings.warn(\n",
            "/usr/local/lib/python3.10/dist-packages/sklearn/ensemble/_base.py:166: FutureWarning: `base_estimator` was renamed to `estimator` in version 1.2 and will be removed in 1.4.\n",
            "  warnings.warn(\n",
            "/usr/local/lib/python3.10/dist-packages/sklearn/ensemble/_base.py:166: FutureWarning: `base_estimator` was renamed to `estimator` in version 1.2 and will be removed in 1.4.\n",
            "  warnings.warn(\n",
            "/usr/local/lib/python3.10/dist-packages/sklearn/ensemble/_base.py:166: FutureWarning: `base_estimator` was renamed to `estimator` in version 1.2 and will be removed in 1.4.\n",
            "  warnings.warn(\n",
            "/usr/local/lib/python3.10/dist-packages/sklearn/ensemble/_base.py:166: FutureWarning: `base_estimator` was renamed to `estimator` in version 1.2 and will be removed in 1.4.\n",
            "  warnings.warn(\n",
            "/usr/local/lib/python3.10/dist-packages/sklearn/ensemble/_base.py:166: FutureWarning: `base_estimator` was renamed to `estimator` in version 1.2 and will be removed in 1.4.\n",
            "  warnings.warn(\n",
            "/usr/local/lib/python3.10/dist-packages/sklearn/ensemble/_base.py:166: FutureWarning: `base_estimator` was renamed to `estimator` in version 1.2 and will be removed in 1.4.\n",
            "  warnings.warn(\n",
            "/usr/local/lib/python3.10/dist-packages/sklearn/ensemble/_base.py:166: FutureWarning: `base_estimator` was renamed to `estimator` in version 1.2 and will be removed in 1.4.\n",
            "  warnings.warn(\n",
            "/usr/local/lib/python3.10/dist-packages/sklearn/ensemble/_base.py:166: FutureWarning: `base_estimator` was renamed to `estimator` in version 1.2 and will be removed in 1.4.\n",
            "  warnings.warn(\n",
            "/usr/local/lib/python3.10/dist-packages/sklearn/ensemble/_base.py:166: FutureWarning: `base_estimator` was renamed to `estimator` in version 1.2 and will be removed in 1.4.\n",
            "  warnings.warn(\n",
            "/usr/local/lib/python3.10/dist-packages/sklearn/ensemble/_base.py:166: FutureWarning: `base_estimator` was renamed to `estimator` in version 1.2 and will be removed in 1.4.\n",
            "  warnings.warn(\n",
            "/usr/local/lib/python3.10/dist-packages/sklearn/ensemble/_base.py:166: FutureWarning: `base_estimator` was renamed to `estimator` in version 1.2 and will be removed in 1.4.\n",
            "  warnings.warn(\n",
            "/usr/local/lib/python3.10/dist-packages/sklearn/ensemble/_base.py:166: FutureWarning: `base_estimator` was renamed to `estimator` in version 1.2 and will be removed in 1.4.\n",
            "  warnings.warn(\n",
            "/usr/local/lib/python3.10/dist-packages/sklearn/ensemble/_base.py:166: FutureWarning: `base_estimator` was renamed to `estimator` in version 1.2 and will be removed in 1.4.\n",
            "  warnings.warn(\n",
            "/usr/local/lib/python3.10/dist-packages/sklearn/ensemble/_base.py:166: FutureWarning: `base_estimator` was renamed to `estimator` in version 1.2 and will be removed in 1.4.\n",
            "  warnings.warn(\n",
            "/usr/local/lib/python3.10/dist-packages/sklearn/ensemble/_base.py:166: FutureWarning: `base_estimator` was renamed to `estimator` in version 1.2 and will be removed in 1.4.\n",
            "  warnings.warn(\n",
            "/usr/local/lib/python3.10/dist-packages/sklearn/ensemble/_base.py:166: FutureWarning: `base_estimator` was renamed to `estimator` in version 1.2 and will be removed in 1.4.\n",
            "  warnings.warn(\n",
            "/usr/local/lib/python3.10/dist-packages/sklearn/ensemble/_base.py:166: FutureWarning: `base_estimator` was renamed to `estimator` in version 1.2 and will be removed in 1.4.\n",
            "  warnings.warn(\n",
            "/usr/local/lib/python3.10/dist-packages/sklearn/ensemble/_base.py:166: FutureWarning: `base_estimator` was renamed to `estimator` in version 1.2 and will be removed in 1.4.\n",
            "  warnings.warn(\n",
            "/usr/local/lib/python3.10/dist-packages/sklearn/ensemble/_base.py:166: FutureWarning: `base_estimator` was renamed to `estimator` in version 1.2 and will be removed in 1.4.\n",
            "  warnings.warn(\n",
            "/usr/local/lib/python3.10/dist-packages/sklearn/ensemble/_base.py:166: FutureWarning: `base_estimator` was renamed to `estimator` in version 1.2 and will be removed in 1.4.\n",
            "  warnings.warn(\n",
            "/usr/local/lib/python3.10/dist-packages/sklearn/ensemble/_base.py:166: FutureWarning: `base_estimator` was renamed to `estimator` in version 1.2 and will be removed in 1.4.\n",
            "  warnings.warn(\n",
            "/usr/local/lib/python3.10/dist-packages/sklearn/ensemble/_base.py:166: FutureWarning: `base_estimator` was renamed to `estimator` in version 1.2 and will be removed in 1.4.\n",
            "  warnings.warn(\n",
            "/usr/local/lib/python3.10/dist-packages/sklearn/ensemble/_base.py:166: FutureWarning: `base_estimator` was renamed to `estimator` in version 1.2 and will be removed in 1.4.\n",
            "  warnings.warn(\n"
          ]
        },
        {
          "name": "stdout",
          "output_type": "stream",
          "text": [
            "Max samples: 0.5, Mean cross-validation score: 0.79\n",
            "Max samples: 0.6, Mean cross-validation score: 0.7933333333333332\n",
            "Max samples: 0.7, Mean cross-validation score: 0.7883333333333333\n",
            "Max samples: 0.8, Mean cross-validation score: 0.7849999999999999\n",
            "Max samples: 0.9, Mean cross-validation score: 0.7833333333333334\n",
            "Max samples: 1.0, Mean cross-validation score: 0.7833333333333334\n"
          ]
        }
      ],
      "source": [
        "# Define a range of values to test for the max_samples parameter\n",
        "max_samples_values = [0.5, 0.6, 0.7, 0.8, 0.9, 1.0]\n",
        "\n",
        "# Initialize a list to store the mean cross-validation scores for each value of max_samples\n",
        "mean_scores = []\n",
        "\n",
        "# For each value of max_samples...\n",
        "for max_samples in max_samples_values:\n",
        "    # Define the ensemble model with the current value of max_samples\n",
        "    bagging_lr = BaggingClassifier(base_estimator=LogisticRegression(), n_estimators=10, max_samples=max_samples, random_state=0)\n",
        "\n",
        "    # Perform cross-validation and calculate the mean score\n",
        "    scores = cross_val_score(bagging_lr, X_train_scaled, y_train, cv=5)\n",
        "    mean_score = scores.mean()\n",
        "\n",
        "    # Append the mean score to the list\n",
        "    mean_scores.append(mean_score)\n",
        "\n",
        "# Print the mean cross-validation scores for each value of max_samples\n",
        "for max_samples, mean_score in zip(max_samples_values, mean_scores):\n",
        "    print(f'Max samples: {max_samples}, Mean cross-validation score: {mean_score}')"
      ]
    },
    {
      "cell_type": "markdown",
      "metadata": {
        "id": "S0gguvnybTi1"
      },
      "source": [
        "The Highest Cross Validation from doing this is with .6 Max Samples\n",
        "\n",
        "Will predict on test data now."
      ]
    },
    {
      "cell_type": "code",
      "execution_count": 59,
      "metadata": {
        "colab": {
          "base_uri": "https://localhost:8080/"
        },
        "id": "NZIeSBVobeiA",
        "outputId": "50347221-1aad-459d-9ded-d18550c8df46"
      },
      "outputs": [
        {
          "name": "stdout",
          "output_type": "stream",
          "text": [
            "Accuracy: 0.72\n",
            "Precision: 0.6052631578947368\n",
            "Recall: 0.46\n",
            "F1 Score: 0.5227272727272727\n"
          ]
        },
        {
          "name": "stderr",
          "output_type": "stream",
          "text": [
            "/usr/local/lib/python3.10/dist-packages/sklearn/ensemble/_base.py:166: FutureWarning: `base_estimator` was renamed to `estimator` in version 1.2 and will be removed in 1.4.\n",
            "  warnings.warn(\n"
          ]
        }
      ],
      "source": [
        "# Define the ensemble model with max_samples set to 0.6\n",
        "bagging_lr = BaggingClassifier(base_estimator=LogisticRegression(), n_estimators=10, max_samples=0.6, random_state=0)\n",
        "\n",
        "# Fit the model to the training data\n",
        "bagging_lr.fit(X_train_scaled, y_train)\n",
        "\n",
        "# Predict the test data\n",
        "y_pred = bagging_lr.predict(X_test_scaled)\n",
        "\n",
        "# Calculate performance measures\n",
        "accuracy = accuracy_score(y_test, y_pred)\n",
        "precision = precision_score(y_test, y_pred)\n",
        "recall = recall_score(y_test, y_pred)\n",
        "f1 = f1_score(y_test, y_pred)\n",
        "\n",
        "# Print the performance measures\n",
        "print(f'Accuracy: {accuracy}')\n",
        "print(f'Precision: {precision}')\n",
        "print(f'Recall: {recall}')\n",
        "print(f'F1 Score: {f1}')"
      ]
    },
    {
      "cell_type": "markdown",
      "metadata": {
        "id": "dG1d8kdWbqd-"
      },
      "source": [
        "False Positive Rate for Ensemble"
      ]
    },
    {
      "cell_type": "code",
      "execution_count": 60,
      "metadata": {
        "colab": {
          "base_uri": "https://localhost:8080/"
        },
        "id": "qisS5-I8dRLI",
        "outputId": "c306f4b4-daa9-4dd9-8dfe-855747487da1"
      },
      "outputs": [
        {
          "name": "stdout",
          "output_type": "stream",
          "text": [
            "False Positive Rate: 0.15\n"
          ]
        }
      ],
      "source": [
        "# Calculate the confusion matrix for the ensemble model\n",
        "confusion_ensemble = confusion_matrix(y_test, y_pred)\n",
        "\n",
        "# Calculate the False Positive Rate (FPR) for the ensemble model\n",
        "FP_ensemble = confusion_ensemble[0, 1]\n",
        "TN_ensemble = confusion_ensemble[0, 0]\n",
        "FPR_ensemble = FP_ensemble / (FP_ensemble + TN_ensemble)\n",
        "\n",
        "# Print the False Positive Rate for the ensemble model\n",
        "print(f'False Positive Rate: {FPR_ensemble}')"
      ]
    },
    {
      "cell_type": "markdown",
      "metadata": {
        "id": "fcXxFm2YdTCo"
      },
      "source": [
        "SVM MODEL USING Polynomial Kernal\n",
        "Predictions for Test data\n"
      ]
    },
    {
      "cell_type": "code",
      "execution_count": 61,
      "metadata": {
        "colab": {
          "base_uri": "https://localhost:8080/"
        },
        "id": "b9a8K2WYdeK5",
        "outputId": "c957b74c-c720-4b39-a51a-13dd6223a827"
      },
      "outputs": [
        {
          "name": "stdout",
          "output_type": "stream",
          "text": [
            "Accuracy: 0.6866666666666666\n",
            "Precision: 0.5517241379310345\n",
            "Recall: 0.32\n",
            "F1 Score: 0.4050632911392405\n"
          ]
        }
      ],
      "source": [
        "# Define the SVM with Polynomial Kernel model with C set to 1.0\n",
        "svm_poly = SVC(kernel='poly', degree=3, C=1.0, random_state=0)\n",
        "\n",
        "# Fit the model to the training data\n",
        "svm_poly.fit(X_train_scaled, y_train)\n",
        "\n",
        "# Predict the test data\n",
        "y_pred_svm = svm_poly.predict(X_test_scaled)\n",
        "\n",
        "# Calculate performance measures\n",
        "accuracy_svm = accuracy_score(y_test, y_pred_svm)\n",
        "precision_svm = precision_score(y_test, y_pred_svm)\n",
        "recall_svm = recall_score(y_test, y_pred_svm)\n",
        "f1_svm = f1_score(y_test, y_pred_svm)\n",
        "\n",
        "# Print the performance measures\n",
        "print(f'Accuracy: {accuracy_svm}')\n",
        "print(f'Precision: {precision_svm}')\n",
        "print(f'Recall: {recall_svm}')\n",
        "print(f'F1 Score: {f1_svm}')"
      ]
    },
    {
      "cell_type": "markdown",
      "metadata": {
        "id": "y8Y3GhZodjEI"
      },
      "source": [
        "False Postive Rate\n",
        "SVM polynomial kernel"
      ]
    },
    {
      "cell_type": "markdown",
      "metadata": {
        "id": "kegKdOQHjYTj"
      },
      "source": [
        "Cross Validation of SVM polynomial kernel model"
      ]
    },
    {
      "cell_type": "code",
      "execution_count": 63,
      "metadata": {
        "colab": {
          "base_uri": "https://localhost:8080/"
        },
        "id": "14FR3Z0-jmcY",
        "outputId": "4092cf27-deb8-4285-83f6-f53ad8bf2d7e"
      },
      "outputs": [
        {
          "name": "stdout",
          "output_type": "stream",
          "text": [
            "C: 0.1, Mean cross-validation score: 0.7216666666666667\n",
            "C: 1.0, Mean cross-validation score: 0.7483333333333333\n",
            "C: 10.0, Mean cross-validation score: 0.7483333333333333\n",
            "C: 100.0, Mean cross-validation score: 0.7183333333333334\n"
          ]
        }
      ],
      "source": [
        "# Define a range of values to test for the C parameter\n",
        "C_values = [0.1, 1.0, 10.0, 100.0]\n",
        "\n",
        "# Initialize a list to store the mean cross-validation scores for each value of C\n",
        "mean_scores_svm = []\n",
        "\n",
        "# For each value of C...\n",
        "for C in C_values:\n",
        "    # Define the SVM with Polynomial Kernel model with the current value of C\n",
        "    svm_poly = SVC(kernel='poly', degree=3, C=C, random_state=0)\n",
        "\n",
        "    # Perform cross-validation and calculate the mean score\n",
        "    scores_svm = cross_val_score(svm_poly, X_train_scaled, y_train, cv=5)\n",
        "    mean_score_svm = scores_svm.mean()\n",
        "\n",
        "    # Append the mean score to the list\n",
        "    mean_scores_svm.append(mean_score_svm)\n",
        "\n",
        "# Print the mean cross-validation scores for each value of C\n",
        "for C, mean_score_svm in zip(C_values, mean_scores_svm):\n",
        "    print(f'C: {C}, Mean cross-validation score: {mean_score_svm}')"
      ]
    },
    {
      "cell_type": "markdown",
      "metadata": {
        "id": "kyka-YUzjsRT"
      },
      "source": [
        "C values 1 and 10 show identical cross validation scores\n",
        "C = 1 is chosen due to lower complexity"
      ]
    },
    {
      "cell_type": "code",
      "execution_count": 64,
      "metadata": {
        "colab": {
          "base_uri": "https://localhost:8080/"
        },
        "id": "mEu5Rt_oj58U",
        "outputId": "3165084d-6f52-4aee-8974-f547b87e3623"
      },
      "outputs": [
        {
          "name": "stdout",
          "output_type": "stream",
          "text": [
            "Accuracy: 0.6866666666666666\n",
            "Precision: 0.5517241379310345\n",
            "Recall: 0.32\n",
            "F1 Score: 0.4050632911392405\n"
          ]
        }
      ],
      "source": [
        "# Define the SVM with Polynomial Kernel model with C set to 1.0\n",
        "svm_poly = SVC(kernel='poly', degree=3, C=1.0, random_state=0)\n",
        "\n",
        "# Fit the model to the training data\n",
        "svm_poly.fit(X_train_scaled, y_train)\n",
        "\n",
        "# Predict the test data\n",
        "y_pred_svm = svm_poly.predict(X_test_scaled)\n",
        "\n",
        "# Calculate performance measures\n",
        "accuracy_svm = accuracy_score(y_test, y_pred_svm)\n",
        "precision_svm = precision_score(y_test, y_pred_svm)\n",
        "recall_svm = recall_score(y_test, y_pred_svm)\n",
        "f1_svm = f1_score(y_test, y_pred_svm)\n",
        "\n",
        "# Print the performance measures\n",
        "print(f'Accuracy: {accuracy_svm}')\n",
        "print(f'Precision: {precision_svm}')\n",
        "print(f'Recall: {recall_svm}')\n",
        "print(f'F1 Score: {f1_svm}')"
      ]
    },
    {
      "cell_type": "markdown",
      "metadata": {
        "id": "6k1BEOzKj-6r"
      },
      "source": [
        "False Positive Rate using c = 1"
      ]
    },
    {
      "cell_type": "code",
      "execution_count": 62,
      "metadata": {
        "colab": {
          "base_uri": "https://localhost:8080/"
        },
        "id": "iiuoyAfbdoUn",
        "outputId": "abaca64a-cc76-4e26-fc98-568c529fa359"
      },
      "outputs": [
        {
          "name": "stdout",
          "output_type": "stream",
          "text": [
            "False Positive Rate: 0.13\n"
          ]
        }
      ],
      "source": [
        "# Calculate the confusion matrix\n",
        "confusion = confusion_matrix(y_test, y_pred_svm)\n",
        "\n",
        "# Calculate the False Positive Rate (FPR)\n",
        "FP = confusion[0, 1]\n",
        "TN = confusion[0, 0]\n",
        "FPR = FP / (FP + TN)\n",
        "\n",
        "# Print the False Positive Rate\n",
        "print(f'False Positive Rate: {FPR}')"
      ]
    }
  ],
  "metadata": {
    "colab": {
      "provenance": []
    },
    "kernelspec": {
      "display_name": "Python 3",
      "name": "python3"
    },
    "language_info": {
      "name": "python"
    }
  },
  "nbformat": 4,
  "nbformat_minor": 0
}
